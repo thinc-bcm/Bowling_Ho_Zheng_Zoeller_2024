{
 "cells": [
  {
   "cell_type": "markdown",
   "metadata": {},
   "source": [
    "Figure 2A\n",
    "DHX15 degradation induces splicing at cryptic splice sites. (A) Sashimi plot of reads mapping to the SNAPC1 intron and flanking exons. Data are representative of biological triplicates for each condition. "
   ]
  },
  {
   "cell_type": "code",
   "execution_count": null,
   "metadata": {},
   "outputs": [],
   "source": [
    "!~/pysashimi/main.py plot \\\n",
    "-b ../../data/pysashimi_tables/pysashimi_bam_list_sum159.txt \\\n",
    "-e chr14:61767253-61768735:+ \\\n",
    "-t 3 \\\n",
    "--color-factor 3 \\\n"
   ]
  },
  {
   "cell_type": "markdown",
   "metadata": {},
   "source": [
    "Figure 2B\n",
    "DHX15 degradation induces splicing at cryptic splice sites. (B) Box plot quantifies number of reads mapping to cryptic splice junctions upon DMSO or dTAG13 treatment (median (line), Q1 to Q3 quartile values (boundaries of the box), and range (whiskers), n=3 biological replicates per condition)."
   ]
  },
  {
   "cell_type": "code",
   "execution_count": 1,
   "metadata": {},
   "outputs": [],
   "source": [
    "import glob\n",
    "\n",
    "import matplotlib.pyplot as plt\n",
    "import numpy as np\n",
    "import pandas as pd\n",
    "import seaborn as sns"
   ]
  },
  {
   "cell_type": "code",
   "execution_count": 2,
   "metadata": {},
   "outputs": [],
   "source": [
    "def get_sj(meta_df):\n",
    "    filelist = []\n",
    "    for i,row in meta_df.iterrows():\n",
    "        filepath = '../../data/dtag_experiments/' + \\\n",
    "            row['Target'] + \\\n",
    "            '/sj_out/'+ \\\n",
    "            row['Sample basename']\n",
    "        filelist.append(glob.glob(filepath+'*')[0])\n",
    "    return filelist\n",
    "\n",
    "\n",
    "def get_ujs_from_intron(filenam,intron_id):\n",
    "    test = pd.read_csv(filenam,sep='\\t').dropna()\n",
    "    test_filt = test.loc[[intron_id in i for i in test.intron_ids]]\n",
    "    return np.sum(\n",
    "        test_filt.loc[\n",
    "            (test_filt['unique'] >=3) &\n",
    "            (\n",
    "                (test_filt['class'] == 'matching 5') |\n",
    "                (test_filt['class'] == 'matching 3') | \n",
    "                (test_filt['class'] == 'intronic')\n",
    "            )\n",
    "        ]\n",
    "    .unique)\n",
    "\n"
   ]
  },
  {
   "cell_type": "code",
   "execution_count": 3,
   "metadata": {},
   "outputs": [],
   "source": [
    "meta = pd.read_csv('../../data/dtag_experiments/sum159_all_meta.tsv',sep='\\t')"
   ]
  },
  {
   "cell_type": "code",
   "execution_count": 4,
   "metadata": {},
   "outputs": [],
   "source": [
    "d12_meta = meta.loc[\n",
    "    (meta['Clone'] == 'D12') &\n",
    "    (meta['Target'] == 'DHX15') &\n",
    "    (meta['Time value'] == 9) & \n",
    "    (meta['Compound'] == 'dTag13') &\n",
    "    (\n",
    "        (meta['Dosage value'] == 500) |\n",
    "        (meta['Dosage value'] == 0)\n",
    "    )\n",
    "]"
   ]
  },
  {
   "cell_type": "code",
   "execution_count": 5,
   "metadata": {},
   "outputs": [
    {
     "name": "stderr",
     "output_type": "stream",
     "text": [
      "/storage/cylin/home/bmho/anaconda3/lib/python3.7/site-packages/IPython/core/interactiveshell.py:3057: DtypeWarning: Columns (0) have mixed types. Specify dtype option on import or set low_memory=False.\n",
      "  interactivity=interactivity, compiler=compiler, result=result)\n"
     ]
    }
   ],
   "source": [
    "intron_gtf=pd.read_csv('../../data/annotations/hg38_ENSEMBL_92_introns.gtf',sep='\\t',header=None)\n",
    "intron_gtf.index = [i.split('\"')[1] for i in intron_gtf.iloc[:,-1]]"
   ]
  },
  {
   "cell_type": "code",
   "execution_count": 6,
   "metadata": {},
   "outputs": [
    {
     "data": {
      "text/plain": [
       "0                                                   14\n",
       "1                                               custom\n",
       "2                                               intron\n",
       "3                                             61767353\n",
       "4                                             61768635\n",
       "5                                                    .\n",
       "6                                                    +\n",
       "7                                                    .\n",
       "8    transcript_id \"ENSG00000023608,ENSG00000100644...\n",
       "Name: ENSG00000023608,ENSG00000100644,ENSG00000258964.19, dtype: object"
      ]
     },
     "execution_count": 6,
     "metadata": {},
     "output_type": "execute_result"
    }
   ],
   "source": [
    "snapc1_id = 'ENSG00000023608,ENSG00000100644,ENSG00000258964.19'\n",
    "intron_gtf.loc[snapc1_id]"
   ]
  },
  {
   "cell_type": "code",
   "execution_count": 7,
   "metadata": {},
   "outputs": [
    {
     "name": "stderr",
     "output_type": "stream",
     "text": [
      "/storage/cylin/home/bmho/anaconda3/lib/python3.7/site-packages/IPython/core/interactiveshell.py:3325: DtypeWarning: Columns (0) have mixed types. Specify dtype option on import or set low_memory=False.\n",
      "  exec(code_obj, self.user_global_ns, self.user_ns)\n"
     ]
    }
   ],
   "source": [
    "d12_files = get_sj(d12_meta)\n",
    "\n",
    "uj_counts = [get_ujs_from_intron(i,snapc1_id) for i in d12_files]\n",
    "\n",
    "uj_df = pd.DataFrame([\n",
    "    ['0nM']*3 + ['500nM']*3,\n",
    "    uj_counts\n",
    "]).transpose()"
   ]
  },
  {
   "cell_type": "code",
   "execution_count": 8,
   "metadata": {},
   "outputs": [
    {
     "data": {
      "image/png": "[encoded data removed]",
      "text/plain": [
       "<Figure size 216x360 with 1 Axes>"
      ]
     },
     "metadata": {
      "needs_background": "light"
     },
     "output_type": "display_data"
    }
   ],
   "source": [
    "fig,ax=plt.subplots(figsize=(3,5))\n",
    "\n",
    "ax = sns.boxplot(\n",
    "    x=uj_df.loc[:,0],\n",
    "    y=uj_df.loc[:,1],\n",
    "    palette=['white','white'],\n",
    ")\n",
    "\n",
    "colors = ['grey','tab:red']\n",
    "\n",
    "for i,box in enumerate(ax.artists):\n",
    "    box.set_edgecolor(colors[i])\n",
    "    box.set_linewidth(3)\n",
    "    for j in range(i*6,i*6+6):\n",
    "        line = ax.lines[j]\n",
    "        line.set_color(colors[i])\n",
    "        line.set_mfc(colors[i])\n",
    "        line.set_mec(colors[i])\n",
    "        line.set_linewidth(3)\n",
    "\n",
    "\n",
    "\n",
    "plt.xlabel('')\n",
    "plt.ylabel('# reads supporting cryptic splicing events', fontsize=12)\n",
    "plt.title('SNAPC1', fontsize=14)\n",
    "\n",
    "ax.spines['right'].set_visible(False)\n",
    "ax.spines['top'].set_visible(False)\n"
   ]
  },
  {
   "cell_type": "markdown",
   "metadata": {},
   "source": [
    "Figure 2E\n",
    "(E) Degradation of DHX15 leads to use of multiple cryptic splice sites within a single intron. Bar plot of number of introns with  1-5, and 6+ cryptic splice junctions in DMSO and dTAG13 treated states (mean and SEM, n=3 biological replicates/treatment, two-tailed unpaired Student’s t-test)."
   ]
  },
  {
   "cell_type": "code",
   "execution_count": 1,
   "metadata": {},
   "outputs": [],
   "source": [
    "import glob\n",
    "\n",
    "import numpy as np\n",
    "import pandas as pd\n",
    "\n",
    "from collections import Counter"
   ]
  },
  {
   "cell_type": "code",
   "execution_count": 2,
   "metadata": {},
   "outputs": [],
   "source": [
    "meta = pd.read_csv('../../data/dtag_experiments/sum159_all_meta.tsv',sep='\\t')"
   ]
  },
  {
   "cell_type": "code",
   "execution_count": 3,
   "metadata": {},
   "outputs": [],
   "source": [
    "def get_sj(meta_df):\n",
    "    filelist = []\n",
    "    for i,row in meta_df.iterrows():\n",
    "        filepath = \\\n",
    "            '../../data/dtag_experiments/' + \\\n",
    "            row['Target'] + \\\n",
    "            '/sj_out/' + \\\n",
    "            row['Sample basename']\n",
    "        filelist.append(glob.glob(filepath+'*tsv')[0])\n",
    "    return filelist\n",
    "\n",
    "def flatten(regular_list):\n",
    "    return [item for sublist in regular_list for item in sublist]\n",
    "\n",
    "def get_counts(filenam):\n",
    "    test = pd.read_csv(filenam,sep='\\t')\n",
    "\n",
    "    test_filt = test.loc[\n",
    "        (test['unique'] >= 3) & \n",
    "        ((test['class'] == 'matching 5') |\n",
    "        (test['class'] == 'matching 3') |\n",
    "        (test['class'] == 'intronic'))\n",
    "    ]\n",
    "    \n",
    "    ki_df = test.loc[\n",
    "        (test['unique'] >= 3) &\n",
    "        (test['class'] == 'known intron')\n",
    "    ]\n",
    "    \n",
    "    ki_all = flatten([i.split(';') for i in ki_df['intron_ids'].dropna().values])\n",
    "    \n",
    "    ki_no_uj = len(set(ki_all).difference(flatten([i.split(';') for i in test_filt['intron_ids'].dropna().values])))\n",
    "\n",
    "    counter_object = Counter(\n",
    "        flatten([i.split(';') for i in test_filt['intron_ids'].dropna().values])\n",
    "    )\n",
    "\n",
    "    for key in counter_object.keys():\n",
    "        if counter_object[key]>10:\n",
    "            counter_object[key]=10\n",
    "\n",
    "    return pd.concat(\n",
    "        [\n",
    "            pd.Series(ki_no_uj,index=[0]),\n",
    "            pd.DataFrame.from_dict(\n",
    "                Counter([counter_object[key] for key in counter_object.keys()]),\n",
    "                orient='index'\n",
    "            )\n",
    "        ])"
   ]
  },
  {
   "cell_type": "code",
   "execution_count": 4,
   "metadata": {},
   "outputs": [
    {
     "name": "stderr",
     "output_type": "stream",
     "text": [
      "/storage/cylin/home/bmho/anaconda3/lib/python3.7/site-packages/ipykernel_launcher.py:9: SettingWithCopyWarning: \n",
      "A value is trying to be set on a copy of a slice from a DataFrame.\n",
      "Try using .loc[row_indexer,col_indexer] = value instead\n",
      "\n",
      "See the caveats in the documentation: http://pandas.pydata.org/pandas-docs/stable/indexing.html#indexing-view-versus-copy\n",
      "  if __name__ == '__main__':\n"
     ]
    }
   ],
   "source": [
    "meta_filt = meta.loc[\n",
    "    (meta['Cell line'] == 'SUM159') & \n",
    "    (meta['Clone'] == 'D12') &\n",
    "    (meta['Target'] == 'DHX15') &\n",
    "    (meta['Time value'] == 9) &\n",
    "    ((meta['Dosage value'] == 500) | (meta['Dosage value'] == 0))\n",
    "]\n",
    "\n",
    "meta_filt['filepath'] = get_sj(meta_filt)"
   ]
  },
  {
   "cell_type": "code",
   "execution_count": 5,
   "metadata": {},
   "outputs": [
    {
     "name": "stderr",
     "output_type": "stream",
     "text": [
      "/storage/cylin/home/bmho/anaconda3/lib/python3.7/site-packages/IPython/core/interactiveshell.py:3325: DtypeWarning: Columns (0) have mixed types. Specify dtype option on import or set low_memory=False.\n",
      "  exec(code_obj, self.user_global_ns, self.user_ns)\n"
     ]
    }
   ],
   "source": [
    "count_df = pd.concat(\n",
    "    [get_counts(file) for file in meta_filt['filepath'].values]\n",
    ",axis=1).fillna(0)"
   ]
  },
  {
   "cell_type": "code",
   "execution_count": 6,
   "metadata": {},
   "outputs": [],
   "source": [
    "count_summary = pd.concat([\n",
    "    count_df.iloc[0,:],\n",
    "    np.sum(count_df.iloc[1:6,:]),\n",
    "    np.sum(count_df.iloc[6:,:])\n",
    "],axis=1).transpose()\n",
    "\n",
    "count_summary.index = ['0','1-5','6+']\n",
    "count_summary.columns = ['veh']*3 + ['dtag']*3"
   ]
  },
  {
   "cell_type": "code",
   "execution_count": 7,
   "metadata": {},
   "outputs": [
    {
     "data": {
      "text/html": [
       "<div>\n",
       "<style scoped>\n",
       "    .dataframe tbody tr th:only-of-type {\n",
       "        vertical-align: middle;\n",
       "    }\n",
       "\n",
       "    .dataframe tbody tr th {\n",
       "        vertical-align: top;\n",
       "    }\n",
       "\n",
       "    .dataframe thead th {\n",
       "        text-align: right;\n",
       "    }\n",
       "</style>\n",
       "<table border=\"1\" class=\"dataframe\">\n",
       "  <thead>\n",
       "    <tr style=\"text-align: right;\">\n",
       "      <th></th>\n",
       "      <th>veh</th>\n",
       "      <th>veh</th>\n",
       "      <th>veh</th>\n",
       "      <th>dtag</th>\n",
       "      <th>dtag</th>\n",
       "      <th>dtag</th>\n",
       "    </tr>\n",
       "  </thead>\n",
       "  <tbody>\n",
       "    <tr>\n",
       "      <th>0</th>\n",
       "      <td>124300.0</td>\n",
       "      <td>124843.0</td>\n",
       "      <td>119238.0</td>\n",
       "      <td>107523.0</td>\n",
       "      <td>104699.0</td>\n",
       "      <td>104324.0</td>\n",
       "    </tr>\n",
       "    <tr>\n",
       "      <th>1-5</th>\n",
       "      <td>7704.0</td>\n",
       "      <td>8388.0</td>\n",
       "      <td>5207.0</td>\n",
       "      <td>29565.0</td>\n",
       "      <td>38239.0</td>\n",
       "      <td>29143.0</td>\n",
       "    </tr>\n",
       "    <tr>\n",
       "      <th>6+</th>\n",
       "      <td>18.0</td>\n",
       "      <td>19.0</td>\n",
       "      <td>7.0</td>\n",
       "      <td>418.0</td>\n",
       "      <td>824.0</td>\n",
       "      <td>336.0</td>\n",
       "    </tr>\n",
       "  </tbody>\n",
       "</table>\n",
       "</div>"
      ],
      "text/plain": [
       "          veh       veh       veh      dtag      dtag      dtag\n",
       "0    124300.0  124843.0  119238.0  107523.0  104699.0  104324.0\n",
       "1-5    7704.0    8388.0    5207.0   29565.0   38239.0   29143.0\n",
       "6+       18.0      19.0       7.0     418.0     824.0     336.0"
      ]
     },
     "execution_count": 7,
     "metadata": {},
     "output_type": "execute_result"
    }
   ],
   "source": [
    "count_summary"
   ]
  },
  {
   "cell_type": "markdown",
   "metadata": {},
   "source": [
    "bar plot made in prism using above values"
   ]
  },
  {
   "cell_type": "markdown",
   "metadata": {},
   "source": [
    "Figure 2G\n",
    "(G) Degradation of DHX15 uniquely induces all classifications of cryptic splicing. Magnitude of cryptic splicing is quantified as the total number of unique cryptic splice junctions normalized to the number of known intron splicing events. Bar plot depicts fold change in cryptic splicing magnitude compared to DMSO treatment after 9hrs of target degradation (mean +/- SEM, n=3 biological replicates/condition, two-tailed unpaired Student’s t-test)."
   ]
  },
  {
   "cell_type": "code",
   "execution_count": 1,
   "metadata": {},
   "outputs": [],
   "source": [
    "import glob\n",
    "\n",
    "import matplotlib.pyplot as plt\n",
    "import numpy as np\n",
    "import pandas as pd\n",
    "\n",
    "from matplotlib.patches import Patch\n",
    "from natsort import os_sorted\n",
    "from scipy.stats import sem\n"
   ]
  },
  {
   "cell_type": "code",
   "execution_count": 18,
   "metadata": {},
   "outputs": [],
   "source": [
    "def get_sj(meta_df):\n",
    "    filelist = []\n",
    "    for i,row in meta_df.iterrows():\n",
    "        filepath = '../../data/dtag_experiments/' + \\\n",
    "            row['Target'] + \\\n",
    "            '/sj_out/' + \\\n",
    "            row['Sample basename'].split('_Aligned')[0]\n",
    "        filelist.append(glob.glob(filepath+'*')[0])\n",
    "    return filelist\n"
   ]
  },
  {
   "cell_type": "code",
   "execution_count": 26,
   "metadata": {},
   "outputs": [],
   "source": [
    "big_meta = pd.read_csv('../../data/dtag_experiments/sum159_all_meta.tsv',sep='\\t')\n",
    "\n",
    "big_meta.index = [i.split('_Aligned')[0] for i in big_meta['Sample basename'].values]"
   ]
  },
  {
   "cell_type": "code",
   "execution_count": 19,
   "metadata": {},
   "outputs": [],
   "source": [
    "def get_uj_counts(filenam):\n",
    "    test = pd.read_csv(filenam, sep='\\t')\n",
    "    test_filt = test[test['unique'] >= 3]\n",
    "    intronic = np.sum([i == 'intronic' for i in test_filt['class']])\n",
    "    match_5 = np.sum([i == 'matching 5' for i in test_filt['class']])\n",
    "    match_3 = np.sum([i == 'matching 3' for i in test_filt['class']])\n",
    "    ki = np.sum([i == 'known intron' for i in test_filt['class']])\n",
    "    \n",
    "    return [ki, match_5, match_3, intronic]\n",
    "\n",
    "def flatten(regular_list):\n",
    "    return [item for sublist in regular_list for item in sublist]\n",
    "\n"
   ]
  },
  {
   "cell_type": "code",
   "execution_count": 27,
   "metadata": {},
   "outputs": [
    {
     "name": "stderr",
     "output_type": "stream",
     "text": [
      "/storage/cylin/home/bmho/anaconda3/lib/python3.7/site-packages/ipykernel_launcher.py:6: SettingWithCopyWarning: \n",
      "A value is trying to be set on a copy of a slice from a DataFrame.\n",
      "Try using .loc[row_indexer,col_indexer] = value instead\n",
      "\n",
      "See the caveats in the documentation: http://pandas.pydata.org/pandas-docs/stable/indexing.html#indexing-view-versus-copy\n",
      "  \n",
      "/storage/cylin/home/bmho/anaconda3/lib/python3.7/site-packages/ipykernel_launcher.py:8: SettingWithCopyWarning: \n",
      "A value is trying to be set on a copy of a slice from a DataFrame.\n",
      "Try using .loc[row_indexer,col_indexer] = value instead\n",
      "\n",
      "See the caveats in the documentation: http://pandas.pydata.org/pandas-docs/stable/indexing.html#indexing-view-versus-copy\n",
      "  \n"
     ]
    }
   ],
   "source": [
    "big_filt = big_meta.loc[\n",
    "    ((big_meta['Time value']>6) & (big_meta['Time value']<12))\n",
    "]\n",
    "\n",
    "big_filt['code'] = big_filt['Target'] + '_' + \\\n",
    "    big_filt['Dosage value'].astype('str')\n",
    "\n",
    "big_filt['filepath'] = get_sj(big_filt)"
   ]
  },
  {
   "cell_type": "code",
   "execution_count": 28,
   "metadata": {},
   "outputs": [
    {
     "name": "stderr",
     "output_type": "stream",
     "text": [
      "/storage/cylin/home/bmho/anaconda3/lib/python3.7/site-packages/IPython/core/interactiveshell.py:3325: DtypeWarning: Columns (0) have mixed types. Specify dtype option on import or set low_memory=False.\n",
      "  exec(code_obj, self.user_global_ns, self.user_ns)\n"
     ]
    }
   ],
   "source": [
    "uj_counts = [get_uj_counts(i) for i in big_filt['filepath'].values]\n",
    "\n",
    "uj_df = pd.DataFrame(uj_counts)\n",
    "uj_df.columns = ['known intron', 'matching 5', 'matching 3', 'intronic']\n",
    "\n",
    "uj_df.index = [i.split('_Aligned')[0] for i in big_filt['Sample basename'].values]"
   ]
  },
  {
   "cell_type": "code",
   "execution_count": 29,
   "metadata": {},
   "outputs": [],
   "source": [
    "target_list = [\n",
    "    'AQR_0.0', \n",
    "    'AQR_500.0', \n",
    "    'DDX46_0.0', \n",
    "    'DDX46_200.0',   \n",
    "    'DHX15_0.0', \n",
    "    'DHX15_500.0', \n",
    "    'DHX16_0.0', \n",
    "    'DHX16_400.0', \n",
    "    'DHX38_0.0',\n",
    "    'DHX38_400.0', \n",
    "    'PRPF8_0.0', \n",
    "    'PRPF8_250.0', \n",
    "    'SF3B1_0.0',\n",
    "    'SF3B1_200.0', \n",
    "    'U2AF2_0.0',\n",
    "    'U2AF2_250.0'\n",
    "]"
   ]
  },
  {
   "cell_type": "code",
   "execution_count": 30,
   "metadata": {},
   "outputs": [],
   "source": [
    "uj_ki_norm = uj_df.divide(uj_df.loc[:,'known intron'],axis=0)\n"
   ]
  },
  {
   "cell_type": "code",
   "execution_count": 31,
   "metadata": {},
   "outputs": [],
   "source": [
    "bar_vals = []\n",
    "error_vals = []\n",
    "for i in target_list:\n",
    "    inds = big_filt[big_filt['code'] == i].index\n",
    "    control_inds = big_filt[big_filt['code'] == '_'.join([i.split('_')[0]]+['0.0'])].index\n",
    "    norm_df = uj_ki_norm.loc[inds,:]/np.mean(uj_ki_norm.loc[control_inds,:])    \n",
    "    bar_vals.append(np.mean(norm_df.loc[inds,:]))\n",
    "    error_vals.append(sem(norm_df.loc[inds,:]))\n",
    "    \n",
    "bar_vals = pd.DataFrame(bar_vals)\n",
    "error_vals = pd.DataFrame(error_vals)\n",
    "\n",
    "bar_vals.index = target_list\n",
    "error_vals.index = target_list\n",
    "error_vals.columns = uj_df.columns"
   ]
  },
  {
   "cell_type": "code",
   "execution_count": 32,
   "metadata": {},
   "outputs": [],
   "source": [
    "def make_uj_plot_no_ki_ax_2(code,ax,colornam):\n",
    "    xvals = [\n",
    "        0, 1,  \n",
    "        3, 4,  \n",
    "        6, 7, \n",
    "    ]\n",
    "\n",
    "    bools = [code in i for i in target_list]\n",
    "    yvals = flatten(bar_vals.iloc[:,1:].loc[bools].transpose().values)\n",
    "    errors = flatten(error_vals.iloc[:,1:].loc[bools].transpose().values)\n",
    "\n",
    "    ax.bar(\n",
    "        xvals[0::2],\n",
    "        yvals[0::2],\n",
    "        yerr=errors[0::2],\n",
    "        color='grey',\n",
    "    )\n",
    "    ax.bar(\n",
    "        xvals[1::2],\n",
    "        yvals[1::2],\n",
    "        yerr=errors[1::2],\n",
    "        color=colornam,\n",
    "    )\n",
    "\n",
    "    trt_vals = ['{:g}'.format(float(i.split('_')[1])) + ' nM' for i in np.array(target_list)[bools]]\n",
    "    \n",
    "    legend_elements = [\n",
    "        Patch(\n",
    "            facecolor='grey',\n",
    "            label=trt_vals[0]\n",
    "        ),\n",
    "        Patch(\n",
    "            facecolor=colornam,\n",
    "            label=trt_vals[1] \n",
    "        ),\n",
    "    ]\n",
    "\n",
    "    box = ax.get_position()\n",
    "    ax.set_position([box.x0, box.y0, box.width * 0.8, box.height])\n",
    "\n",
    "    ax.legend(handles = legend_elements)\n",
    "\n",
    "    xticks = [0.5, 3.5, 6.5]\n",
    "    xtick_labs = ['cryptic 3ss', 'cryptic 5ss', 'intronic']\n",
    "    ax.set_xticks(xticks)\n",
    "    ax.set_xticklabels(xtick_labs,\n",
    "                       fontsize=12,\n",
    "                       rotation=40,\n",
    "                       ha='right', \n",
    "                       rotation_mode='anchor')\n",
    "\n",
    "    ax.set_title(code, fontsize=14)\n",
    "    ax.spines['right'].set_visible(False)\n",
    "    ax.spines['top'].set_visible(False)"
   ]
  },
  {
   "cell_type": "code",
   "execution_count": 33,
   "metadata": {},
   "outputs": [
    {
     "data": {
      "text/plain": [
       "(0, 10.5)"
      ]
     },
     "execution_count": 33,
     "metadata": {},
     "output_type": "execute_result"
    },
    {
     "data": {
      "image/png": "[encoded data removed]",
      "text/plain": [
       "<Figure size 720x504 with 8 Axes>"
      ]
     },
     "metadata": {
      "needs_background": "light"
     },
     "output_type": "display_data"
    }
   ],
   "source": [
    "ylim = 10.5\n",
    "\n",
    "fig,((ax1,ax2,ax3,ax4),(ax6,ax7,ax8,ax9)) = plt.subplots(2,4,figsize=(10,7))\n",
    "\n",
    "make_uj_plot_no_ki_ax_2('DHX15',ax9,'tab:blue')\n",
    "make_uj_plot_no_ki_ax_2('AQR',ax7,'tab:orange')\n",
    "make_uj_plot_no_ki_ax_2('PRPF8',ax4,'tab:green')\n",
    "make_uj_plot_no_ki_ax_2('U2AF2',ax1,'tab:purple')\n",
    "make_uj_plot_no_ki_ax_2('SF3B1',ax3,'tab:red')\n",
    "make_uj_plot_no_ki_ax_2('DDX46',ax2,'tab:brown')\n",
    "make_uj_plot_no_ki_ax_2('DHX16',ax6,'tab:cyan')\n",
    "make_uj_plot_no_ki_ax_2('DHX38',ax8,'tab:pink')\n",
    "\n",
    "plt.tight_layout(w_pad=3)\n",
    "\n",
    "ax1.set_ylim([0,ylim])\n",
    "ax2.set_ylim([0,ylim])\n",
    "ax3.set_ylim([0,ylim])\n",
    "ax4.set_ylim([0,ylim])\n",
    "ax6.set_ylim([0,ylim])\n",
    "ax7.set_ylim([0,ylim])\n",
    "ax8.set_ylim([0,ylim])\n",
    "ax9.set_ylim([0,ylim])\n"
   ]
  },
  {
   "cell_type": "markdown",
   "metadata": {},
   "source": [
    "Figure 2H\n",
    "(H) DHX15 degradation similarly induces cryptic splicing in an additional TNBC cell line, MDA-MB-231-LM2. Magnitude of cryptic splicing is quantified as the number of unique cryptic splice junctions normalized to the number of known intron splicing events. Bar plot depicts fold change in cryptic splicing magnitude compared to DMSO treatment after 9hrs of target degradation (mean +/- SEM, n=3 biological replicates/condition, two-tailed unpaired Student’s t-test)."
   ]
  },
  {
   "cell_type": "code",
   "execution_count": 1,
   "metadata": {},
   "outputs": [],
   "source": [
    "import glob\n",
    "\n",
    "import matplotlib.pyplot as plt\n",
    "import numpy as np\n",
    "import pandas as pd\n",
    "\n",
    "from matplotlib.patches import Patch\n",
    "from natsort import os_sorted\n",
    "from scipy.stats import sem"
   ]
  },
  {
   "cell_type": "code",
   "execution_count": 2,
   "metadata": {},
   "outputs": [],
   "source": [
    "def get_sj(meta_df):\n",
    "    filelist = []\n",
    "    for i,row in meta_df.iterrows():\n",
    "        filepath = '../../data/dtag_experiments/' + \\\n",
    "            row['Target'] + \\\n",
    "            '/sj_out/'+ \\\n",
    "            row['Sample basename']\n",
    "        filelist.append(glob.glob(filepath+'*')[0])\n",
    "    return filelist\n"
   ]
  },
  {
   "cell_type": "code",
   "execution_count": 3,
   "metadata": {},
   "outputs": [],
   "source": [
    "meta_max = pd.read_csv('../../data/dtag_experiments/lm2_meta_9.txt',sep='\\t')\n",
    "meta_max['filepath'] = get_sj(meta_max)\n",
    "\n",
    "\n",
    "meta_max.index = [i.split('_Aligned')[0] for i in meta_max['Sample basename'].values]\n",
    "\n",
    "meta_max['Dosage value'] = meta_max['Dosage value'].astype('str')\n",
    "meta_max['Time value'] = meta_max['Time value'].astype('str')\n",
    "\n",
    "meta_max['code'] = meta_max['Target'] + '_' + \\\n",
    "    meta_max['Time value'] + '_' + \\\n",
    "    meta_max['Dosage value']"
   ]
  },
  {
   "cell_type": "code",
   "execution_count": 4,
   "metadata": {},
   "outputs": [],
   "source": [
    "def get_uj_counts(filenam):\n",
    "    test = pd.read_csv(filenam, sep='\\t')\n",
    "    test_filt = test[test['unique'] >= 3]\n",
    "    intronic = np.sum([i == 'intronic' for i in test_filt['class']])\n",
    "    match_5 = np.sum([i == 'matching 5' for i in test_filt['class']])\n",
    "    match_3 = np.sum([i == 'matching 3' for i in test_filt['class']])\n",
    "    ki = np.sum([i == 'known intron' for i in test_filt['class']])\n",
    "    \n",
    "    return [ki, match_5, match_3, intronic]\n",
    "\n",
    "def flatten(regular_list):\n",
    "    return [item for sublist in regular_list for item in sublist]\n"
   ]
  },
  {
   "cell_type": "code",
   "execution_count": 5,
   "metadata": {},
   "outputs": [
    {
     "name": "stderr",
     "output_type": "stream",
     "text": [
      "/storage/cylin/home/bmho/anaconda3/lib/python3.7/site-packages/IPython/core/interactiveshell.py:3325: DtypeWarning: Columns (0) have mixed types. Specify dtype option on import or set low_memory=False.\n",
      "  exec(code_obj, self.user_global_ns, self.user_ns)\n"
     ]
    }
   ],
   "source": [
    "uj_counts = [get_uj_counts(i) for i in meta_max['filepath'].values]\n"
   ]
  },
  {
   "cell_type": "code",
   "execution_count": 6,
   "metadata": {},
   "outputs": [],
   "source": [
    "uj_df = pd.DataFrame(uj_counts)\n",
    "uj_df.columns = ['known intron', 'matching 5', 'matching 3', 'intronic']\n",
    "\n",
    "uj_df.index = [i.split('_Aligned')[0] for i in meta_max['Sample basename'].values]\n",
    "\n",
    "uj_ki_norm = uj_df.divide(uj_df.loc[:,'known intron'],axis=0)\n"
   ]
  },
  {
   "cell_type": "code",
   "execution_count": 7,
   "metadata": {},
   "outputs": [],
   "source": [
    "target_list = os_sorted(list(set(meta_max['code'])))"
   ]
  },
  {
   "cell_type": "code",
   "execution_count": 8,
   "metadata": {},
   "outputs": [],
   "source": [
    "bar_vals = []\n",
    "error_vals = []\n",
    "for i in target_list:\n",
    "    inds = meta_max[meta_max['code'] == i].index\n",
    "    control_inds = meta_max[meta_max['code'] == '_'.join(i.split('_')[0:2]+['0.0'])].index\n",
    "    norm_df = uj_ki_norm.loc[inds,:]/np.mean(uj_ki_norm.loc[control_inds,:])    \n",
    "    bar_vals.append(np.mean(norm_df.loc[inds,:]))\n",
    "    error_vals.append(sem(norm_df.loc[inds,:]))\n",
    "    \n",
    "bar_vals = pd.DataFrame(bar_vals)\n",
    "error_vals = pd.DataFrame(error_vals)\n",
    "\n",
    "bar_vals.index = target_list\n",
    "error_vals.index = target_list\n",
    "error_vals.columns = uj_df.columns"
   ]
  },
  {
   "cell_type": "code",
   "execution_count": 9,
   "metadata": {},
   "outputs": [],
   "source": [
    "def make_uj_plot_no_ki_ax(code,ax,colornam):\n",
    "    xvals = [\n",
    "        0, 1,  \n",
    "        3, 4,  \n",
    "        6, 7, \n",
    "    ]\n",
    "\n",
    "    bools = [code in i for i in target_list]\n",
    "    yvals = flatten(bar_vals.iloc[:,1:].loc[bools].transpose().values)\n",
    "    errors = flatten(error_vals.iloc[:,1:].loc[bools].transpose().values)\n",
    "\n",
    "    ax.bar(\n",
    "        xvals[0::2],\n",
    "        yvals[0::2],\n",
    "        yerr=errors[0::2],\n",
    "        color='grey',\n",
    "    )\n",
    "\n",
    "\n",
    "    ax.bar(\n",
    "        xvals[1::2],\n",
    "        yvals[1::2],\n",
    "        yerr=errors[1::2],\n",
    "        color=colornam,\n",
    "        alpha=1\n",
    "    )\n",
    "\n",
    "    trt_vals = ['{:g}'.format(float(i.split('_')[2])) + ' nM' for i in np.array(target_list)[bools]]\n",
    "    \n",
    "    legend_elements = [\n",
    "        Patch(\n",
    "            facecolor='grey',\n",
    "            label=trt_vals[0]\n",
    "        ),\n",
    "        Patch(\n",
    "            facecolor=colornam,\n",
    "            label=trt_vals[1] \n",
    "        ),\n",
    "    ]\n",
    "\n",
    "    box = ax.get_position()\n",
    "    ax.set_position([box.x0, box.y0, box.width * 0.8, box.height])\n",
    "\n",
    "    ax.legend(handles = legend_elements,loc='upper center')\n",
    "\n",
    "    xticks = [0.5, 3.5, 6.5]\n",
    "    xtick_labs = ['cryptic 3ss', 'cryptic 5ss', 'intronic']\n",
    "    ax.set_xticks(xticks)\n",
    "    ax.set_xticklabels(xtick_labs,\n",
    "                       fontsize=12,\n",
    "                       rotation=40,\n",
    "                       ha='right', \n",
    "                       rotation_mode='anchor')\n",
    "\n",
    "    ax.set_title(code, fontsize=14)\n",
    "    ax.spines['right'].set_visible(False)\n",
    "    ax.spines['top'].set_visible(False)"
   ]
  },
  {
   "cell_type": "code",
   "execution_count": 10,
   "metadata": {},
   "outputs": [
    {
     "data": {
      "text/plain": [
       "Text(9.625, 0.5, 'Relative UJ expression')"
      ]
     },
     "execution_count": 10,
     "metadata": {},
     "output_type": "execute_result"
    },
    {
     "data": {
      "image/png": "[encoded data removed]",
      "text/plain": [
       "<Figure size 216x288 with 1 Axes>"
      ]
     },
     "metadata": {
      "needs_background": "light"
     },
     "output_type": "display_data"
    }
   ],
   "source": [
    "ylim = 6.5\n",
    "\n",
    "fig,ax1 = plt.subplots(figsize=(3,4))\n",
    "\n",
    "make_uj_plot_no_ki_ax('DHX15_9',ax1,'tab:blue')\n",
    "\n",
    "\n",
    "plt.tight_layout(w_pad=3)\n",
    "\n",
    "ax1.set_ylim([0,ylim])\n",
    "\n",
    "ax1.set_ylabel('Relative UJ expression',fontsize=14)\n"
   ]
  },
  {
   "cell_type": "markdown",
   "metadata": {},
   "source": [
    "Figure 2I\n",
    "(I) Similar cryptic splice junctions are utilized in both SUM159 and LM2 cells upon DHX15 degradation. Sashimi plot of reads mapping to the SNAPC1 intron and flanking exons. Data are representative of biological triplicates for each condition. Splice junctions with >= 3 reads are shown."
   ]
  },
  {
   "cell_type": "code",
   "execution_count": null,
   "metadata": {},
   "outputs": [],
   "source": [
    "%%capture\n",
    "\n",
    "!~/pysashimi/main.py plot \\\n",
    "-b ../../data/pysashimi_tables/pysashimi_bam_list_lm2.txt \\\n",
    "-e chr14:61767253-61768735:+ \\\n",
    "-t 3 \\\n",
    "--color-factor 3 \\\n"
   ]
  },
  {
   "cell_type": "markdown",
   "metadata": {},
   "source": [
    "Figure 2L\n",
    "Cryptic splice junction usage is increased in both SUM159 and LM2 cells upon DHX15 degradation. (L) Sashimi plot of reads mapping to the cryptic splice junction and flanking exons. Data are representative of biological triplicates for each condition."
   ]
  },
  {
   "cell_type": "code",
   "execution_count": null,
   "metadata": {},
   "outputs": [],
   "source": [
    "%%capture\n",
    "\n",
    "!~/pysashimi/main.py plot \\\n",
    "-b ../../data/pysashimi_tables/pysashimi_bam_list_sum159_lm2.txt \\\n",
    "-e chr15:69414350-69416093:+ \\\n",
    "-t 3 \\\n",
    "--color-factor 3 \\\n"
   ]
  }
 ],
 "metadata": {
  "kernelspec": {
   "display_name": "Python 3",
   "language": "python",
   "name": "python3"
  },
  "language_info": {
   "codemirror_mode": {
    "name": "ipython",
    "version": 3
   },
   "file_extension": ".py",
   "mimetype": "text/x-python",
   "name": "python",
   "nbconvert_exporter": "python",
   "pygments_lexer": "ipython3",
   "version": "3.7.3"
  }
 },
 "nbformat": 4,
 "nbformat_minor": 2
}
