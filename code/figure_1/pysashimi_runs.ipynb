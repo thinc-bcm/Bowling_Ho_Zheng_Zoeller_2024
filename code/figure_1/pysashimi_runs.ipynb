{
 "cells": [
  {
   "cell_type": "code",
   "execution_count": 5,
   "metadata": {
    "scrolled": true
   },
   "outputs": [
    {
     "name": "stdout",
     "output_type": "stream",
     "text": [
      "\u001b[2;36m[15:46:16]\u001b[0m\u001b[2;36m \u001b[0m\u001b[34mINFO    \u001b[0m Reading settings from \u001b[35m/storage/cylin/ho\u001b[0m \u001b]8;id=730177;file:///storage/cylin/home/bmho/pysashimi/conf/plot_settings.py\u001b\\\u001b[2mplot_settings.py\u001b[0m\u001b]8;;\u001b\\\u001b[2m:\u001b[0m\u001b]8;id=317179;file:///storage/cylin/home/bmho/pysashimi/conf/plot_settings.py#402\u001b\\\u001b[2m402\u001b[0m\u001b]8;;\u001b\\\n",
      "\u001b[2;36m           \u001b[0m         \u001b[35mme/bmho/pysashimi/\u001b[0m\u001b[95msettings.ini...\u001b[0m       \u001b[2m                    \u001b[0m\n",
      "\u001b[2;36m          \u001b[0m\u001b[2;36m \u001b[0m\u001b[34mINFO    \u001b[0m Creating index for ..\u001b[35m/../data/pysashimi_tables/\u001b[0m\u001b[95mp\u001b[0m \u001b]8;id=329363;file:///storage/cylin/home/bmho/pysashimi/ioutils/utils.py\u001b\\\u001b[2mutils.py\u001b[0m\u001b]8;;\u001b\\\u001b[2m:\u001b[0m\u001b]8;id=438854;file:///storage/cylin/home/bmho/pysashimi/ioutils/utils.py#91\u001b\\\u001b[2m91\u001b[0m\u001b]8;;\u001b\\\n",
      "\u001b[2;36m           \u001b[0m         \u001b[95mysashimi_bam_list_sum159.txt\u001b[0m                     \u001b[2m           \u001b[0m\n",
      "\u001b[2;36m          \u001b[0m\u001b[2;36m \u001b[0m\u001b[34mINFO    \u001b[0m Creating index for ..\u001b[35m/../data/dtag_experiments/D\u001b[0m \u001b]8;id=268130;file:///storage/cylin/home/bmho/pysashimi/ioutils/utils.py\u001b\\\u001b[2mutils.py\u001b[0m\u001b]8;;\u001b\\\u001b[2m:\u001b[0m\u001b]8;id=112318;file:///storage/cylin/home/bmho/pysashimi/ioutils/utils.py#91\u001b\\\u001b[2m91\u001b[0m\u001b]8;;\u001b\\\n",
      "\u001b[2;36m           \u001b[0m         \u001b[35mHX15/bam/\u001b[0m\u001b[95mAB157_S85_L001_R1_001_merged_preprocess\u001b[0m \u001b[2m           \u001b[0m\n",
      "\u001b[2;36m           \u001b[0m         \u001b[95med.bam\u001b[0m                                           \u001b[2m           \u001b[0m\n",
      "\u001b[2;36m[15:47:20]\u001b[0m\u001b[2;36m \u001b[0m\u001b[34mINFO    \u001b[0m Creating index for ..\u001b[35m/../data/dtag_experiments/D\u001b[0m \u001b]8;id=738446;file:///storage/cylin/home/bmho/pysashimi/ioutils/utils.py\u001b\\\u001b[2mutils.py\u001b[0m\u001b]8;;\u001b\\\u001b[2m:\u001b[0m\u001b]8;id=137425;file:///storage/cylin/home/bmho/pysashimi/ioutils/utils.py#91\u001b\\\u001b[2m91\u001b[0m\u001b]8;;\u001b\\\n",
      "\u001b[2;36m           \u001b[0m         \u001b[35mHX15/bam/\u001b[0m\u001b[95mAB158_S86_L001_R1_001_merged_preprocess\u001b[0m \u001b[2m           \u001b[0m\n",
      "\u001b[2;36m           \u001b[0m         \u001b[95med.bam\u001b[0m                                           \u001b[2m           \u001b[0m\n",
      "\u001b[2;36m[15:48:31]\u001b[0m\u001b[2;36m \u001b[0m\u001b[34mINFO    \u001b[0m Creating index for ..\u001b[35m/../data/dtag_experiments/D\u001b[0m \u001b]8;id=903660;file:///storage/cylin/home/bmho/pysashimi/ioutils/utils.py\u001b\\\u001b[2mutils.py\u001b[0m\u001b]8;;\u001b\\\u001b[2m:\u001b[0m\u001b]8;id=567216;file:///storage/cylin/home/bmho/pysashimi/ioutils/utils.py#91\u001b\\\u001b[2m91\u001b[0m\u001b]8;;\u001b\\\n",
      "\u001b[2;36m           \u001b[0m         \u001b[35mHX15/bam/\u001b[0m\u001b[95mAB159_S87_L001_R1_001_merged_preprocess\u001b[0m \u001b[2m           \u001b[0m\n",
      "\u001b[2;36m           \u001b[0m         \u001b[95med.bam\u001b[0m                                           \u001b[2m           \u001b[0m\n",
      "\u001b[2;36m[15:49:18]\u001b[0m\u001b[2;36m \u001b[0m\u001b[34mINFO    \u001b[0m Creating index for ..\u001b[35m/../data/dtag_experiments/D\u001b[0m \u001b]8;id=610466;file:///storage/cylin/home/bmho/pysashimi/ioutils/utils.py\u001b\\\u001b[2mutils.py\u001b[0m\u001b]8;;\u001b\\\u001b[2m:\u001b[0m\u001b]8;id=451888;file:///storage/cylin/home/bmho/pysashimi/ioutils/utils.py#91\u001b\\\u001b[2m91\u001b[0m\u001b]8;;\u001b\\\n",
      "\u001b[2;36m           \u001b[0m         \u001b[35mHX15/bam/\u001b[0m\u001b[95mAB166_S94_L001_R1_001_merged_preprocess\u001b[0m \u001b[2m           \u001b[0m\n",
      "\u001b[2;36m           \u001b[0m         \u001b[95med.bam\u001b[0m                                           \u001b[2m           \u001b[0m\n",
      "\u001b[2;36m[15:51:43]\u001b[0m\u001b[2;36m \u001b[0m\u001b[34mINFO    \u001b[0m Creating index for ..\u001b[35m/../data/dtag_experiments/D\u001b[0m \u001b]8;id=399540;file:///storage/cylin/home/bmho/pysashimi/ioutils/utils.py\u001b\\\u001b[2mutils.py\u001b[0m\u001b]8;;\u001b\\\u001b[2m:\u001b[0m\u001b]8;id=725102;file:///storage/cylin/home/bmho/pysashimi/ioutils/utils.py#91\u001b\\\u001b[2m91\u001b[0m\u001b]8;;\u001b\\\n",
      "\u001b[2;36m           \u001b[0m         \u001b[35mHX15/bam/\u001b[0m\u001b[95mAB167_S95_L001_R1_001_merged_preprocess\u001b[0m \u001b[2m           \u001b[0m\n",
      "\u001b[2;36m           \u001b[0m         \u001b[95med.bam\u001b[0m                                           \u001b[2m           \u001b[0m\n",
      "\u001b[2;36m[15:55:24]\u001b[0m\u001b[2;36m \u001b[0m\u001b[34mINFO    \u001b[0m Creating index for ..\u001b[35m/../data/dtag_experiments/D\u001b[0m \u001b]8;id=617397;file:///storage/cylin/home/bmho/pysashimi/ioutils/utils.py\u001b\\\u001b[2mutils.py\u001b[0m\u001b]8;;\u001b\\\u001b[2m:\u001b[0m\u001b]8;id=169177;file:///storage/cylin/home/bmho/pysashimi/ioutils/utils.py#91\u001b\\\u001b[2m91\u001b[0m\u001b]8;;\u001b\\\n",
      "\u001b[2;36m           \u001b[0m         \u001b[35mHX15/bam/\u001b[0m\u001b[95mAB168_S96_L001_R1_001_merged_preprocess\u001b[0m \u001b[2m           \u001b[0m\n",
      "\u001b[2;36m           \u001b[0m         \u001b[95med.bam\u001b[0m                                           \u001b[2m           \u001b[0m\n",
      "\u001b[2;36m[15:57:39]\u001b[0m\u001b[2;36m \u001b[0m\u001b[34mINFO    \u001b[0m Reading from bam files                  \u001b]8;id=27390;file:///storage/cylin/home/bmho/pysashimi/ioutils/reading_input.py\u001b\\\u001b[2mreading_input.py\u001b[0m\u001b]8;;\u001b\\\u001b[2m:\u001b[0m\u001b]8;id=401907;file:///storage/cylin/home/bmho/pysashimi/ioutils/reading_input.py#259\u001b\\\u001b[2m259\u001b[0m\u001b]8;;\u001b\\\n",
      "\u001b[2;36m          \u001b[0m\u001b[2;36m \u001b[0m\u001b[31mWARNING \u001b[0m invalid contig `chr14`                      \u001b]8;id=122270;file:///storage/cylin/home/bmho/pysashimi/src/ReadDepth.py\u001b\\\u001b[2mReadDepth.py\u001b[0m\u001b]8;;\u001b\\\u001b[2m:\u001b[0m\u001b]8;id=928114;file:///storage/cylin/home/bmho/pysashimi/src/ReadDepth.py#116\u001b\\\u001b[2m116\u001b[0m\u001b]8;;\u001b\\\n",
      "\u001b[2;36m          \u001b[0m\u001b[2;36m \u001b[0m\u001b[34mINFO    \u001b[0m try without chr                             \u001b]8;id=279769;file:///storage/cylin/home/bmho/pysashimi/src/ReadDepth.py\u001b\\\u001b[2mReadDepth.py\u001b[0m\u001b]8;;\u001b\\\u001b[2m:\u001b[0m\u001b]8;id=513948;file:///storage/cylin/home/bmho/pysashimi/src/ReadDepth.py#125\u001b\\\u001b[2m125\u001b[0m\u001b]8;;\u001b\\\n",
      "\u001b[2;36m[15:57:40]\u001b[0m\u001b[2;36m \u001b[0m\u001b[31mWARNING \u001b[0m invalid contig `chr14`                      \u001b]8;id=233360;file:///storage/cylin/home/bmho/pysashimi/src/ReadDepth.py\u001b\\\u001b[2mReadDepth.py\u001b[0m\u001b]8;;\u001b\\\u001b[2m:\u001b[0m\u001b]8;id=574973;file:///storage/cylin/home/bmho/pysashimi/src/ReadDepth.py#116\u001b\\\u001b[2m116\u001b[0m\u001b]8;;\u001b\\\n",
      "\u001b[2;36m          \u001b[0m\u001b[2;36m \u001b[0m\u001b[34mINFO    \u001b[0m try without chr                             \u001b]8;id=486675;file:///storage/cylin/home/bmho/pysashimi/src/ReadDepth.py\u001b\\\u001b[2mReadDepth.py\u001b[0m\u001b]8;;\u001b\\\u001b[2m:\u001b[0m\u001b]8;id=123188;file:///storage/cylin/home/bmho/pysashimi/src/ReadDepth.py#125\u001b\\\u001b[2m125\u001b[0m\u001b]8;;\u001b\\\n",
      "\u001b[2;36m          \u001b[0m\u001b[2;36m \u001b[0m\u001b[31mWARNING \u001b[0m invalid contig `chr14`                      \u001b]8;id=607533;file:///storage/cylin/home/bmho/pysashimi/src/ReadDepth.py\u001b\\\u001b[2mReadDepth.py\u001b[0m\u001b]8;;\u001b\\\u001b[2m:\u001b[0m\u001b]8;id=860342;file:///storage/cylin/home/bmho/pysashimi/src/ReadDepth.py#116\u001b\\\u001b[2m116\u001b[0m\u001b]8;;\u001b\\\n",
      "\u001b[2;36m          \u001b[0m\u001b[2;36m \u001b[0m\u001b[34mINFO    \u001b[0m try without chr                             \u001b]8;id=468783;file:///storage/cylin/home/bmho/pysashimi/src/ReadDepth.py\u001b\\\u001b[2mReadDepth.py\u001b[0m\u001b]8;;\u001b\\\u001b[2m:\u001b[0m\u001b]8;id=922075;file:///storage/cylin/home/bmho/pysashimi/src/ReadDepth.py#125\u001b\\\u001b[2m125\u001b[0m\u001b]8;;\u001b\\\n",
      "\u001b[2;36m[15:57:41]\u001b[0m\u001b[2;36m \u001b[0m\u001b[31mWARNING \u001b[0m invalid contig `chr14`                      \u001b]8;id=576655;file:///storage/cylin/home/bmho/pysashimi/src/ReadDepth.py\u001b\\\u001b[2mReadDepth.py\u001b[0m\u001b]8;;\u001b\\\u001b[2m:\u001b[0m\u001b]8;id=858296;file:///storage/cylin/home/bmho/pysashimi/src/ReadDepth.py#116\u001b\\\u001b[2m116\u001b[0m\u001b]8;;\u001b\\\n",
      "\u001b[2;36m          \u001b[0m\u001b[2;36m \u001b[0m\u001b[34mINFO    \u001b[0m try without chr                             \u001b]8;id=926258;file:///storage/cylin/home/bmho/pysashimi/src/ReadDepth.py\u001b\\\u001b[2mReadDepth.py\u001b[0m\u001b]8;;\u001b\\\u001b[2m:\u001b[0m\u001b]8;id=867602;file:///storage/cylin/home/bmho/pysashimi/src/ReadDepth.py#125\u001b\\\u001b[2m125\u001b[0m\u001b]8;;\u001b\\\n",
      "\u001b[2;36m[15:57:42]\u001b[0m\u001b[2;36m \u001b[0m\u001b[31mWARNING \u001b[0m invalid contig `chr14`                      \u001b]8;id=642925;file:///storage/cylin/home/bmho/pysashimi/src/ReadDepth.py\u001b\\\u001b[2mReadDepth.py\u001b[0m\u001b]8;;\u001b\\\u001b[2m:\u001b[0m\u001b]8;id=280267;file:///storage/cylin/home/bmho/pysashimi/src/ReadDepth.py#116\u001b\\\u001b[2m116\u001b[0m\u001b]8;;\u001b\\\n",
      "\u001b[2;36m          \u001b[0m\u001b[2;36m \u001b[0m\u001b[34mINFO    \u001b[0m try without chr                             \u001b]8;id=205937;file:///storage/cylin/home/bmho/pysashimi/src/ReadDepth.py\u001b\\\u001b[2mReadDepth.py\u001b[0m\u001b]8;;\u001b\\\u001b[2m:\u001b[0m\u001b]8;id=687161;file:///storage/cylin/home/bmho/pysashimi/src/ReadDepth.py#125\u001b\\\u001b[2m125\u001b[0m\u001b]8;;\u001b\\\n",
      "\u001b[2;36m[15:57:43]\u001b[0m\u001b[2;36m \u001b[0m\u001b[31mWARNING \u001b[0m invalid contig `chr14`                      \u001b]8;id=180652;file:///storage/cylin/home/bmho/pysashimi/src/ReadDepth.py\u001b\\\u001b[2mReadDepth.py\u001b[0m\u001b]8;;\u001b\\\u001b[2m:\u001b[0m\u001b]8;id=167452;file:///storage/cylin/home/bmho/pysashimi/src/ReadDepth.py#116\u001b\\\u001b[2m116\u001b[0m\u001b]8;;\u001b\\\n",
      "\u001b[2;36m          \u001b[0m\u001b[2;36m \u001b[0m\u001b[34mINFO    \u001b[0m try without chr                             \u001b]8;id=784698;file:///storage/cylin/home/bmho/pysashimi/src/ReadDepth.py\u001b\\\u001b[2mReadDepth.py\u001b[0m\u001b]8;;\u001b\\\u001b[2m:\u001b[0m\u001b]8;id=190100;file:///storage/cylin/home/bmho/pysashimi/src/ReadDepth.py#125\u001b\\\u001b[2m125\u001b[0m\u001b]8;;\u001b\\\n",
      "\u001b[2;36m          \u001b[0m\u001b[2;36m \u001b[0m\u001b[34mINFO    \u001b[0m save to \u001b[35m/storage/thinc/git_repos/B\u001b[0m \u001b]8;id=474751;file:///storage/cylin/home/bmho/pysashimi/plot/sashimi_plot_utils.py\u001b\\\u001b[2msashimi_plot_utils.py\u001b[0m\u001b]8;;\u001b\\\u001b[2m:\u001b[0m\u001b]8;id=449644;file:///storage/cylin/home/bmho/pysashimi/plot/sashimi_plot_utils.py#307\u001b\\\u001b[2m307\u001b[0m\u001b]8;;\u001b\\\n",
      "\u001b[2;36m           \u001b[0m         \u001b[35mowling_Ho_Zheng_2022/code/\u001b[0m\u001b[95msum159_s\u001b[0m \u001b[2m                         \u001b[0m\n",
      "\u001b[2;36m           \u001b[0m         \u001b[95mnapc1_sashimi.pdf\u001b[0m                  \u001b[2m                         \u001b[0m\n"
     ]
    }
   ],
   "source": [
    "!~/pysashimi/main.py plot \\\n",
    "-b ../../data/pysashimi_tables/pysashimi_bam_list_sum159.txt \\\n",
    "-e chr14:61767253-61768735:+ \\\n",
    "-t 3 \\\n",
    "--color-factor 3 \\\n",
    "-o /storage/thinc/git_repos/Bowling_Ho_Zheng_2022/code/sum159_snapc1_sashimi.pdf"
   ]
  },
  {
   "cell_type": "code",
   "execution_count": 2,
   "metadata": {},
   "outputs": [],
   "source": [
    "%%capture\n",
    "\n",
    "!~/pysashimi/main.py plot \\\n",
    "-b ../../data/pysashimi_tables/pysashimi_bam_list_lm2.txt \\\n",
    "-e chr14:61767253-61768735:+ \\\n",
    "-t 3 \\\n",
    "--color-factor 3 \\\n",
    "-o /storage/cylin/home/bmho/dhx15_uj_paper_figures/lm2_snapc1_sashimi.pdf"
   ]
  },
  {
   "cell_type": "code",
   "execution_count": 5,
   "metadata": {
    "scrolled": true
   },
   "outputs": [
    {
     "name": "stdout",
     "output_type": "stream",
     "text": [
      "\u001b[2;36m[16:02:07]\u001b[0m\u001b[2;36m \u001b[0m\u001b[34mINFO    \u001b[0m Reading settings from \u001b[35m/storage/cylin/ho\u001b[0m \u001b]8;id=30911;file:///storage/cylin/home/bmho/pysashimi/conf/plot_settings.py\u001b\\\u001b[2mplot_settings.py\u001b[0m\u001b]8;;\u001b\\\u001b[2m:\u001b[0m\u001b]8;id=732782;file:///storage/cylin/home/bmho/pysashimi/conf/plot_settings.py#402\u001b\\\u001b[2m402\u001b[0m\u001b]8;;\u001b\\\n",
      "\u001b[2;36m           \u001b[0m         \u001b[35mme/bmho/pysashimi/\u001b[0m\u001b[95msettings.ini...\u001b[0m       \u001b[2m                    \u001b[0m\n",
      "\u001b[2;36m          \u001b[0m\u001b[2;36m \u001b[0m\u001b[34mINFO    \u001b[0m Creating index for \u001b[35m/storage/cylin/home/bmho/\u001b[0m\u001b[95mpysa\u001b[0m \u001b]8;id=572645;file:///storage/cylin/home/bmho/pysashimi/ioutils/utils.py\u001b\\\u001b[2mutils.py\u001b[0m\u001b]8;;\u001b\\\u001b[2m:\u001b[0m\u001b]8;id=718379;file:///storage/cylin/home/bmho/pysashimi/ioutils/utils.py#91\u001b\\\u001b[2m91\u001b[0m\u001b]8;;\u001b\\\n",
      "\u001b[2;36m           \u001b[0m         \u001b[95mshimi_bam_list_all_target.txt\u001b[0m                    \u001b[2m           \u001b[0m\n",
      "\u001b[2;36m          \u001b[0m\u001b[2;36m \u001b[0m\u001b[34mINFO    \u001b[0m Reading from bam files                  \u001b]8;id=842913;file:///storage/cylin/home/bmho/pysashimi/ioutils/reading_input.py\u001b\\\u001b[2mreading_input.py\u001b[0m\u001b]8;;\u001b\\\u001b[2m:\u001b[0m\u001b]8;id=890682;file:///storage/cylin/home/bmho/pysashimi/ioutils/reading_input.py#259\u001b\\\u001b[2m259\u001b[0m\u001b]8;;\u001b\\\n",
      "\u001b[2;36m          \u001b[0m\u001b[2;36m \u001b[0m\u001b[31mWARNING \u001b[0m invalid contig `chr7`                       \u001b]8;id=999763;file:///storage/cylin/home/bmho/pysashimi/src/ReadDepth.py\u001b\\\u001b[2mReadDepth.py\u001b[0m\u001b]8;;\u001b\\\u001b[2m:\u001b[0m\u001b]8;id=148985;file:///storage/cylin/home/bmho/pysashimi/src/ReadDepth.py#116\u001b\\\u001b[2m116\u001b[0m\u001b]8;;\u001b\\\n",
      "\u001b[2;36m          \u001b[0m\u001b[2;36m \u001b[0m\u001b[34mINFO    \u001b[0m try without chr                             \u001b]8;id=427260;file:///storage/cylin/home/bmho/pysashimi/src/ReadDepth.py\u001b\\\u001b[2mReadDepth.py\u001b[0m\u001b]8;;\u001b\\\u001b[2m:\u001b[0m\u001b]8;id=57580;file:///storage/cylin/home/bmho/pysashimi/src/ReadDepth.py#125\u001b\\\u001b[2m125\u001b[0m\u001b]8;;\u001b\\\n",
      "\u001b[2;36m          \u001b[0m\u001b[2;36m \u001b[0m\u001b[31mWARNING \u001b[0m invalid contig `chr7`                       \u001b]8;id=674262;file:///storage/cylin/home/bmho/pysashimi/src/ReadDepth.py\u001b\\\u001b[2mReadDepth.py\u001b[0m\u001b]8;;\u001b\\\u001b[2m:\u001b[0m\u001b]8;id=254168;file:///storage/cylin/home/bmho/pysashimi/src/ReadDepth.py#116\u001b\\\u001b[2m116\u001b[0m\u001b]8;;\u001b\\\n",
      "\u001b[2;36m          \u001b[0m\u001b[2;36m \u001b[0m\u001b[34mINFO    \u001b[0m try without chr                             \u001b]8;id=690958;file:///storage/cylin/home/bmho/pysashimi/src/ReadDepth.py\u001b\\\u001b[2mReadDepth.py\u001b[0m\u001b]8;;\u001b\\\u001b[2m:\u001b[0m\u001b]8;id=988677;file:///storage/cylin/home/bmho/pysashimi/src/ReadDepth.py#125\u001b\\\u001b[2m125\u001b[0m\u001b]8;;\u001b\\\n",
      "\u001b[2;36m          \u001b[0m\u001b[2;36m \u001b[0m\u001b[31mWARNING \u001b[0m invalid contig `chr7`                       \u001b]8;id=729534;file:///storage/cylin/home/bmho/pysashimi/src/ReadDepth.py\u001b\\\u001b[2mReadDepth.py\u001b[0m\u001b]8;;\u001b\\\u001b[2m:\u001b[0m\u001b]8;id=833992;file:///storage/cylin/home/bmho/pysashimi/src/ReadDepth.py#116\u001b\\\u001b[2m116\u001b[0m\u001b]8;;\u001b\\\n",
      "\u001b[2;36m          \u001b[0m\u001b[2;36m \u001b[0m\u001b[34mINFO    \u001b[0m try without chr                             \u001b]8;id=528792;file:///storage/cylin/home/bmho/pysashimi/src/ReadDepth.py\u001b\\\u001b[2mReadDepth.py\u001b[0m\u001b]8;;\u001b\\\u001b[2m:\u001b[0m\u001b]8;id=525490;file:///storage/cylin/home/bmho/pysashimi/src/ReadDepth.py#125\u001b\\\u001b[2m125\u001b[0m\u001b]8;;\u001b\\\n",
      "\u001b[2;36m          \u001b[0m\u001b[2;36m \u001b[0m\u001b[31mWARNING \u001b[0m invalid contig `chr7`                       \u001b]8;id=927397;file:///storage/cylin/home/bmho/pysashimi/src/ReadDepth.py\u001b\\\u001b[2mReadDepth.py\u001b[0m\u001b]8;;\u001b\\\u001b[2m:\u001b[0m\u001b]8;id=310488;file:///storage/cylin/home/bmho/pysashimi/src/ReadDepth.py#116\u001b\\\u001b[2m116\u001b[0m\u001b]8;;\u001b\\\n",
      "\u001b[2;36m          \u001b[0m\u001b[2;36m \u001b[0m\u001b[34mINFO    \u001b[0m try without chr                             \u001b]8;id=659106;file:///storage/cylin/home/bmho/pysashimi/src/ReadDepth.py\u001b\\\u001b[2mReadDepth.py\u001b[0m\u001b]8;;\u001b\\\u001b[2m:\u001b[0m\u001b]8;id=487143;file:///storage/cylin/home/bmho/pysashimi/src/ReadDepth.py#125\u001b\\\u001b[2m125\u001b[0m\u001b]8;;\u001b\\\n",
      "\u001b[2;36m          \u001b[0m\u001b[2;36m \u001b[0m\u001b[31mWARNING \u001b[0m invalid contig `chr7`                       \u001b]8;id=902014;file:///storage/cylin/home/bmho/pysashimi/src/ReadDepth.py\u001b\\\u001b[2mReadDepth.py\u001b[0m\u001b]8;;\u001b\\\u001b[2m:\u001b[0m\u001b]8;id=108091;file:///storage/cylin/home/bmho/pysashimi/src/ReadDepth.py#116\u001b\\\u001b[2m116\u001b[0m\u001b]8;;\u001b\\\n",
      "\u001b[2;36m          \u001b[0m\u001b[2;36m \u001b[0m\u001b[34mINFO    \u001b[0m try without chr                             \u001b]8;id=886683;file:///storage/cylin/home/bmho/pysashimi/src/ReadDepth.py\u001b\\\u001b[2mReadDepth.py\u001b[0m\u001b]8;;\u001b\\\u001b[2m:\u001b[0m\u001b]8;id=386329;file:///storage/cylin/home/bmho/pysashimi/src/ReadDepth.py#125\u001b\\\u001b[2m125\u001b[0m\u001b]8;;\u001b\\\n",
      "\u001b[2;36m          \u001b[0m\u001b[2;36m \u001b[0m\u001b[31mWARNING \u001b[0m invalid contig `chr7`                       \u001b]8;id=450164;file:///storage/cylin/home/bmho/pysashimi/src/ReadDepth.py\u001b\\\u001b[2mReadDepth.py\u001b[0m\u001b]8;;\u001b\\\u001b[2m:\u001b[0m\u001b]8;id=897003;file:///storage/cylin/home/bmho/pysashimi/src/ReadDepth.py#116\u001b\\\u001b[2m116\u001b[0m\u001b]8;;\u001b\\\n",
      "\u001b[2;36m          \u001b[0m\u001b[2;36m \u001b[0m\u001b[34mINFO    \u001b[0m try without chr                             \u001b]8;id=583388;file:///storage/cylin/home/bmho/pysashimi/src/ReadDepth.py\u001b\\\u001b[2mReadDepth.py\u001b[0m\u001b]8;;\u001b\\\u001b[2m:\u001b[0m\u001b]8;id=21060;file:///storage/cylin/home/bmho/pysashimi/src/ReadDepth.py#125\u001b\\\u001b[2m125\u001b[0m\u001b]8;;\u001b\\\n",
      "\u001b[2;36m          \u001b[0m\u001b[2;36m \u001b[0m\u001b[31mWARNING \u001b[0m invalid contig `chr7`                       \u001b]8;id=3719;file:///storage/cylin/home/bmho/pysashimi/src/ReadDepth.py\u001b\\\u001b[2mReadDepth.py\u001b[0m\u001b]8;;\u001b\\\u001b[2m:\u001b[0m\u001b]8;id=541056;file:///storage/cylin/home/bmho/pysashimi/src/ReadDepth.py#116\u001b\\\u001b[2m116\u001b[0m\u001b]8;;\u001b\\\n",
      "\u001b[2;36m          \u001b[0m\u001b[2;36m \u001b[0m\u001b[34mINFO    \u001b[0m try without chr                             \u001b]8;id=468242;file:///storage/cylin/home/bmho/pysashimi/src/ReadDepth.py\u001b\\\u001b[2mReadDepth.py\u001b[0m\u001b]8;;\u001b\\\u001b[2m:\u001b[0m\u001b]8;id=597116;file:///storage/cylin/home/bmho/pysashimi/src/ReadDepth.py#125\u001b\\\u001b[2m125\u001b[0m\u001b]8;;\u001b\\\n",
      "\u001b[2;36m          \u001b[0m\u001b[2;36m \u001b[0m\u001b[31mWARNING \u001b[0m invalid contig `chr7`                       \u001b]8;id=659864;file:///storage/cylin/home/bmho/pysashimi/src/ReadDepth.py\u001b\\\u001b[2mReadDepth.py\u001b[0m\u001b]8;;\u001b\\\u001b[2m:\u001b[0m\u001b]8;id=996711;file:///storage/cylin/home/bmho/pysashimi/src/ReadDepth.py#116\u001b\\\u001b[2m116\u001b[0m\u001b]8;;\u001b\\\n",
      "\u001b[2;36m          \u001b[0m\u001b[2;36m \u001b[0m\u001b[34mINFO    \u001b[0m try without chr                             \u001b]8;id=291288;file:///storage/cylin/home/bmho/pysashimi/src/ReadDepth.py\u001b\\\u001b[2mReadDepth.py\u001b[0m\u001b]8;;\u001b\\\u001b[2m:\u001b[0m\u001b]8;id=281862;file:///storage/cylin/home/bmho/pysashimi/src/ReadDepth.py#125\u001b\\\u001b[2m125\u001b[0m\u001b]8;;\u001b\\\n",
      "\u001b[2;36m          \u001b[0m\u001b[2;36m \u001b[0m\u001b[31mWARNING \u001b[0m invalid contig `chr7`                       \u001b]8;id=659373;file:///storage/cylin/home/bmho/pysashimi/src/ReadDepth.py\u001b\\\u001b[2mReadDepth.py\u001b[0m\u001b]8;;\u001b\\\u001b[2m:\u001b[0m\u001b]8;id=18641;file:///storage/cylin/home/bmho/pysashimi/src/ReadDepth.py#116\u001b\\\u001b[2m116\u001b[0m\u001b]8;;\u001b\\\n",
      "\u001b[2;36m          \u001b[0m\u001b[2;36m \u001b[0m\u001b[34mINFO    \u001b[0m try without chr                             \u001b]8;id=815613;file:///storage/cylin/home/bmho/pysashimi/src/ReadDepth.py\u001b\\\u001b[2mReadDepth.py\u001b[0m\u001b]8;;\u001b\\\u001b[2m:\u001b[0m\u001b]8;id=772145;file:///storage/cylin/home/bmho/pysashimi/src/ReadDepth.py#125\u001b\\\u001b[2m125\u001b[0m\u001b]8;;\u001b\\\n",
      "\u001b[2;36m[16:02:08]\u001b[0m\u001b[2;36m \u001b[0m\u001b[34mINFO    \u001b[0m save to \u001b[35m/storage/cylin/home/bmho/d\u001b[0m \u001b]8;id=618753;file:///storage/cylin/home/bmho/pysashimi/plot/sashimi_plot_utils.py\u001b\\\u001b[2msashimi_plot_utils.py\u001b[0m\u001b]8;;\u001b\\\u001b[2m:\u001b[0m\u001b]8;id=923916;file:///storage/cylin/home/bmho/pysashimi/plot/sashimi_plot_utils.py#307\u001b\\\u001b[2m307\u001b[0m\u001b]8;;\u001b\\\n",
      "\u001b[2;36m           \u001b[0m         \u001b[35mhx15_uj_paper_figures/\u001b[0m\u001b[95mall_target_s\u001b[0m \u001b[2m                         \u001b[0m\n",
      "\u001b[2;36m           \u001b[0m         \u001b[95mashimi_aqr_1.pdf\u001b[0m                   \u001b[2m                         \u001b[0m\n"
     ]
    }
   ],
   "source": [
    "!~/pysashimi/main.py plot \\\n",
    "-b /storage/cylin/home/bmho/pysashimi_bam_list_all_target.txt \\\n",
    "-e chr7:75437586-75439243:- \\\n",
    "-t 3 \\\n",
    "--color-factor 3 \\\n",
    "-o /storage/cylin/home/bmho/dhx15_uj_paper_figures/all_target_sashimi_aqr_1.pdf"
   ]
  },
  {
   "cell_type": "code",
   "execution_count": 9,
   "metadata": {
    "scrolled": true
   },
   "outputs": [],
   "source": [
    "%%capture\n",
    "\n",
    "!~/pysashimi/main.py plot \\\n",
    "-b ../../data/pysashimi_tables/pysashimi_bam_list_all_target.txt \\\n",
    "-e chr4:99948423-99948910:- \\\n",
    "-t 3 \\\n",
    "--color-factor 3 \\\n",
    "-o /storage/cylin/home/bmho/dhx15_uj_paper_figures/all_target_sashimi_aqr_2.pdf\n"
   ]
  },
  {
   "cell_type": "code",
   "execution_count": 11,
   "metadata": {},
   "outputs": [],
   "source": [
    "%%capture\n",
    "\n",
    "!~/pysashimi/main.py plot \\\n",
    "-b ../../data/pysashimi_tables/pysashimi_bam_list_all_target.txt \\\n",
    "-e chr19:46383778-46384903:+ \\\n",
    "-t 3 \\\n",
    "--color-factor 3 \\\n",
    "-o /storage/cylin/home/bmho/dhx15_uj_paper_figures/all_target_sashimi_DHX38.pdf\n",
    "\n"
   ]
  },
  {
   "cell_type": "code",
   "execution_count": 17,
   "metadata": {},
   "outputs": [],
   "source": [
    "%%capture\n",
    "\n",
    "!~/pysashimi/main.py plot \\\n",
    "-b ../../data/pysashimi_tables/pysashimi_bam_list_all_target.txt \\\n",
    "-e chr6:117563284-117566953:- \\\n",
    "-t 3 \\\n",
    "--color-factor 3 \\\n",
    "-o /storage/cylin/home/bmho/dhx15_uj_paper_figures/all_target_sashimi_PRPF8.pdf"
   ]
  },
  {
   "cell_type": "code",
   "execution_count": 13,
   "metadata": {},
   "outputs": [],
   "source": [
    "%%capture\n",
    "\n",
    "!~/pysashimi/main.py plot \\\n",
    "-b ../../data/pysashimi_tables/pysashimi_bam_list_all_target.txt \\\n",
    "-e chr19:2123779-2127251:- \\\n",
    "-t 3 \\\n",
    "--color-factor 3 \\\n",
    "-o /storage/cylin/home/bmho/dhx15_uj_paper_figures/all_target_sashimi_U2AF2.pdf"
   ]
  },
  {
   "cell_type": "code",
   "execution_count": 17,
   "metadata": {},
   "outputs": [],
   "source": [
    "%%capture\n",
    "\n",
    "!~/pysashimi/main.py plot \\\n",
    "-b ../../data/pysashimi_tables/pysashimi_bam_list_all_target.txt \\\n",
    "-e chr22:49919212-49919829:+ \\\n",
    "-t 3 \\\n",
    "--color-factor 3 \\\n",
    "-o /storage/cylin/home/bmho/dhx15_uj_paper_figures/all_target_sashimi_SF3B1.pdf\n"
   ]
  },
  {
   "cell_type": "code",
   "execution_count": 1,
   "metadata": {},
   "outputs": [],
   "source": [
    "%%capture\n",
    "\n",
    "!~/pysashimi/main.py plot \\\n",
    "-b ../../data/pysashimi_tables/pysashimi_bam_list_all_target.txt \\\n",
    "-e chr1:11966217-11967086:+ \\\n",
    "-t 3 \\\n",
    "--color-factor 3 \\\n",
    "-o /storage/cylin/home/bmho/dhx15_uj_paper_figures/all_target_sashimi_U2_1.pdf\n"
   ]
  },
  {
   "cell_type": "code",
   "execution_count": 2,
   "metadata": {},
   "outputs": [],
   "source": [
    "%%capture\n",
    "\n",
    "!~/pysashimi/main.py plot \\\n",
    "-b ../../data/pysashimi_tables/pysashimi_bam_list_all_target.txt \\\n",
    "-e chr22:50286188-50287210:- \\\n",
    "-t 3 \\\n",
    "--color-factor 3 \\\n",
    "-o /storage/cylin/home/bmho/dhx15_uj_paper_figures/all_target_sashimi_U2_2.pdf\n"
   ]
  },
  {
   "cell_type": "code",
   "execution_count": 5,
   "metadata": {},
   "outputs": [],
   "source": [
    "%%capture\n",
    "\n",
    "!~/pysashimi/main.py plot \\\n",
    "-b ../../data/pysashimi_tables/pysashimi_bam_list_all_target.txt \\\n",
    "-e chr19:2121700-2123400:- \\\n",
    "-t 3 \\\n",
    "--color-factor 3 \\\n",
    "-o /storage/cylin/home/bmho/dhx15_uj_paper_figures/all_target_sashimi_U2_3.pdf\n"
   ]
  },
  {
   "cell_type": "code",
   "execution_count": 2,
   "metadata": {},
   "outputs": [],
   "source": [
    "%%capture\n",
    "\n",
    "!~/pysashimi/main.py plot \\\n",
    "-b ../../data/pysashimi_tables/pysashimi_bam_list_all_target.txt \\\n",
    "-e chr5:151105221-151109826:- \\\n",
    "-t 3 \\\n",
    "--color-factor 3 \\\n",
    "-o /storage/cylin/home/bmho/dhx15_uj_paper_figures/all_target_sashimi_U2_4.pdf\n"
   ]
  },
  {
   "cell_type": "code",
   "execution_count": 7,
   "metadata": {},
   "outputs": [
    {
     "name": "stdout",
     "output_type": "stream",
     "text": [
      "\u001b[2;36m[11:56:32]\u001b[0m\u001b[2;36m \u001b[0m\u001b[34mINFO    \u001b[0m Reading settings from \u001b[35m/storage/cylin/ho\u001b[0m \u001b]8;id=97482;file:///storage/cylin/home/bmho/pysashimi/conf/plot_settings.py\u001b\\\u001b[2mplot_settings.py\u001b[0m\u001b]8;;\u001b\\\u001b[2m:\u001b[0m\u001b]8;id=144253;file:///storage/cylin/home/bmho/pysashimi/conf/plot_settings.py#402\u001b\\\u001b[2m402\u001b[0m\u001b]8;;\u001b\\\n",
      "\u001b[2;36m           \u001b[0m         \u001b[35mme/bmho/pysashimi/\u001b[0m\u001b[95msettings.ini...\u001b[0m       \u001b[2m                    \u001b[0m\n",
      "\u001b[2;36m          \u001b[0m\u001b[2;36m \u001b[0m\u001b[34mINFO    \u001b[0m Creating index for \u001b[35m/storage/cylin/home/bmho/\u001b[0m\u001b[95mpysa\u001b[0m \u001b]8;id=344022;file:///storage/cylin/home/bmho/pysashimi/ioutils/utils.py\u001b\\\u001b[2mutils.py\u001b[0m\u001b]8;;\u001b\\\u001b[2m:\u001b[0m\u001b]8;id=203744;file:///storage/cylin/home/bmho/pysashimi/ioutils/utils.py#91\u001b\\\u001b[2m91\u001b[0m\u001b]8;;\u001b\\\n",
      "\u001b[2;36m           \u001b[0m         \u001b[95mshimi_bam_list_all_target.txt\u001b[0m                    \u001b[2m           \u001b[0m\n",
      "\u001b[2;36m          \u001b[0m\u001b[2;36m \u001b[0m\u001b[34mINFO    \u001b[0m Reading from bam files                  \u001b]8;id=495219;file:///storage/cylin/home/bmho/pysashimi/ioutils/reading_input.py\u001b\\\u001b[2mreading_input.py\u001b[0m\u001b]8;;\u001b\\\u001b[2m:\u001b[0m\u001b]8;id=933113;file:///storage/cylin/home/bmho/pysashimi/ioutils/reading_input.py#259\u001b\\\u001b[2m259\u001b[0m\u001b]8;;\u001b\\\n",
      "\u001b[2;36m          \u001b[0m\u001b[2;36m \u001b[0m\u001b[31mWARNING \u001b[0m invalid contig `chr1`                       \u001b]8;id=355837;file:///storage/cylin/home/bmho/pysashimi/src/ReadDepth.py\u001b\\\u001b[2mReadDepth.py\u001b[0m\u001b]8;;\u001b\\\u001b[2m:\u001b[0m\u001b]8;id=266130;file:///storage/cylin/home/bmho/pysashimi/src/ReadDepth.py#116\u001b\\\u001b[2m116\u001b[0m\u001b]8;;\u001b\\\n",
      "\u001b[2;36m          \u001b[0m\u001b[2;36m \u001b[0m\u001b[34mINFO    \u001b[0m try without chr                             \u001b]8;id=13085;file:///storage/cylin/home/bmho/pysashimi/src/ReadDepth.py\u001b\\\u001b[2mReadDepth.py\u001b[0m\u001b]8;;\u001b\\\u001b[2m:\u001b[0m\u001b]8;id=556372;file:///storage/cylin/home/bmho/pysashimi/src/ReadDepth.py#125\u001b\\\u001b[2m125\u001b[0m\u001b]8;;\u001b\\\n",
      "\u001b[2;36m          \u001b[0m\u001b[2;36m \u001b[0m\u001b[31mWARNING \u001b[0m invalid contig `chr1`                       \u001b]8;id=124898;file:///storage/cylin/home/bmho/pysashimi/src/ReadDepth.py\u001b\\\u001b[2mReadDepth.py\u001b[0m\u001b]8;;\u001b\\\u001b[2m:\u001b[0m\u001b]8;id=579885;file:///storage/cylin/home/bmho/pysashimi/src/ReadDepth.py#116\u001b\\\u001b[2m116\u001b[0m\u001b]8;;\u001b\\\n",
      "\u001b[2;36m          \u001b[0m\u001b[2;36m \u001b[0m\u001b[34mINFO    \u001b[0m try without chr                             \u001b]8;id=511764;file:///storage/cylin/home/bmho/pysashimi/src/ReadDepth.py\u001b\\\u001b[2mReadDepth.py\u001b[0m\u001b]8;;\u001b\\\u001b[2m:\u001b[0m\u001b]8;id=649428;file:///storage/cylin/home/bmho/pysashimi/src/ReadDepth.py#125\u001b\\\u001b[2m125\u001b[0m\u001b]8;;\u001b\\\n",
      "\u001b[2;36m          \u001b[0m\u001b[2;36m \u001b[0m\u001b[31mWARNING \u001b[0m invalid contig `chr1`                       \u001b]8;id=173925;file:///storage/cylin/home/bmho/pysashimi/src/ReadDepth.py\u001b\\\u001b[2mReadDepth.py\u001b[0m\u001b]8;;\u001b\\\u001b[2m:\u001b[0m\u001b]8;id=651390;file:///storage/cylin/home/bmho/pysashimi/src/ReadDepth.py#116\u001b\\\u001b[2m116\u001b[0m\u001b]8;;\u001b\\\n",
      "\u001b[2;36m          \u001b[0m\u001b[2;36m \u001b[0m\u001b[34mINFO    \u001b[0m try without chr                             \u001b]8;id=477243;file:///storage/cylin/home/bmho/pysashimi/src/ReadDepth.py\u001b\\\u001b[2mReadDepth.py\u001b[0m\u001b]8;;\u001b\\\u001b[2m:\u001b[0m\u001b]8;id=838790;file:///storage/cylin/home/bmho/pysashimi/src/ReadDepth.py#125\u001b\\\u001b[2m125\u001b[0m\u001b]8;;\u001b\\\n",
      "\u001b[2;36m[11:56:33]\u001b[0m\u001b[2;36m \u001b[0m\u001b[31mWARNING \u001b[0m invalid contig `chr1`                       \u001b]8;id=235177;file:///storage/cylin/home/bmho/pysashimi/src/ReadDepth.py\u001b\\\u001b[2mReadDepth.py\u001b[0m\u001b]8;;\u001b\\\u001b[2m:\u001b[0m\u001b]8;id=671291;file:///storage/cylin/home/bmho/pysashimi/src/ReadDepth.py#116\u001b\\\u001b[2m116\u001b[0m\u001b]8;;\u001b\\\n",
      "\u001b[2;36m          \u001b[0m\u001b[2;36m \u001b[0m\u001b[34mINFO    \u001b[0m try without chr                             \u001b]8;id=112596;file:///storage/cylin/home/bmho/pysashimi/src/ReadDepth.py\u001b\\\u001b[2mReadDepth.py\u001b[0m\u001b]8;;\u001b\\\u001b[2m:\u001b[0m\u001b]8;id=450487;file:///storage/cylin/home/bmho/pysashimi/src/ReadDepth.py#125\u001b\\\u001b[2m125\u001b[0m\u001b]8;;\u001b\\\n",
      "\u001b[2;36m          \u001b[0m\u001b[2;36m \u001b[0m\u001b[31mWARNING \u001b[0m invalid contig `chr1`                       \u001b]8;id=349884;file:///storage/cylin/home/bmho/pysashimi/src/ReadDepth.py\u001b\\\u001b[2mReadDepth.py\u001b[0m\u001b]8;;\u001b\\\u001b[2m:\u001b[0m\u001b]8;id=382771;file:///storage/cylin/home/bmho/pysashimi/src/ReadDepth.py#116\u001b\\\u001b[2m116\u001b[0m\u001b]8;;\u001b\\\n",
      "\u001b[2;36m          \u001b[0m\u001b[2;36m \u001b[0m\u001b[34mINFO    \u001b[0m try without chr                             \u001b]8;id=303241;file:///storage/cylin/home/bmho/pysashimi/src/ReadDepth.py\u001b\\\u001b[2mReadDepth.py\u001b[0m\u001b]8;;\u001b\\\u001b[2m:\u001b[0m\u001b]8;id=756308;file:///storage/cylin/home/bmho/pysashimi/src/ReadDepth.py#125\u001b\\\u001b[2m125\u001b[0m\u001b]8;;\u001b\\\n",
      "\u001b[2;36m          \u001b[0m\u001b[2;36m \u001b[0m\u001b[31mWARNING \u001b[0m invalid contig `chr1`                       \u001b]8;id=409794;file:///storage/cylin/home/bmho/pysashimi/src/ReadDepth.py\u001b\\\u001b[2mReadDepth.py\u001b[0m\u001b]8;;\u001b\\\u001b[2m:\u001b[0m\u001b]8;id=793806;file:///storage/cylin/home/bmho/pysashimi/src/ReadDepth.py#116\u001b\\\u001b[2m116\u001b[0m\u001b]8;;\u001b\\\n",
      "\u001b[2;36m          \u001b[0m\u001b[2;36m \u001b[0m\u001b[34mINFO    \u001b[0m try without chr                             \u001b]8;id=906670;file:///storage/cylin/home/bmho/pysashimi/src/ReadDepth.py\u001b\\\u001b[2mReadDepth.py\u001b[0m\u001b]8;;\u001b\\\u001b[2m:\u001b[0m\u001b]8;id=63180;file:///storage/cylin/home/bmho/pysashimi/src/ReadDepth.py#125\u001b\\\u001b[2m125\u001b[0m\u001b]8;;\u001b\\\n",
      "\u001b[2;36m          \u001b[0m\u001b[2;36m \u001b[0m\u001b[31mWARNING \u001b[0m invalid contig `chr1`                       \u001b]8;id=967032;file:///storage/cylin/home/bmho/pysashimi/src/ReadDepth.py\u001b\\\u001b[2mReadDepth.py\u001b[0m\u001b]8;;\u001b\\\u001b[2m:\u001b[0m\u001b]8;id=852565;file:///storage/cylin/home/bmho/pysashimi/src/ReadDepth.py#116\u001b\\\u001b[2m116\u001b[0m\u001b]8;;\u001b\\\n",
      "\u001b[2;36m          \u001b[0m\u001b[2;36m \u001b[0m\u001b[34mINFO    \u001b[0m try without chr                             \u001b]8;id=906630;file:///storage/cylin/home/bmho/pysashimi/src/ReadDepth.py\u001b\\\u001b[2mReadDepth.py\u001b[0m\u001b]8;;\u001b\\\u001b[2m:\u001b[0m\u001b]8;id=31110;file:///storage/cylin/home/bmho/pysashimi/src/ReadDepth.py#125\u001b\\\u001b[2m125\u001b[0m\u001b]8;;\u001b\\\n",
      "\u001b[2;36m          \u001b[0m\u001b[2;36m \u001b[0m\u001b[31mWARNING \u001b[0m invalid contig `chr1`                       \u001b]8;id=894995;file:///storage/cylin/home/bmho/pysashimi/src/ReadDepth.py\u001b\\\u001b[2mReadDepth.py\u001b[0m\u001b]8;;\u001b\\\u001b[2m:\u001b[0m\u001b]8;id=606456;file:///storage/cylin/home/bmho/pysashimi/src/ReadDepth.py#116\u001b\\\u001b[2m116\u001b[0m\u001b]8;;\u001b\\\n",
      "\u001b[2;36m          \u001b[0m\u001b[2;36m \u001b[0m\u001b[34mINFO    \u001b[0m try without chr                             \u001b]8;id=944445;file:///storage/cylin/home/bmho/pysashimi/src/ReadDepth.py\u001b\\\u001b[2mReadDepth.py\u001b[0m\u001b]8;;\u001b\\\u001b[2m:\u001b[0m\u001b]8;id=499201;file:///storage/cylin/home/bmho/pysashimi/src/ReadDepth.py#125\u001b\\\u001b[2m125\u001b[0m\u001b]8;;\u001b\\\n",
      "\u001b[2;36m          \u001b[0m\u001b[2;36m \u001b[0m\u001b[31mWARNING \u001b[0m invalid contig `chr1`                       \u001b]8;id=132408;file:///storage/cylin/home/bmho/pysashimi/src/ReadDepth.py\u001b\\\u001b[2mReadDepth.py\u001b[0m\u001b]8;;\u001b\\\u001b[2m:\u001b[0m\u001b]8;id=510542;file:///storage/cylin/home/bmho/pysashimi/src/ReadDepth.py#116\u001b\\\u001b[2m116\u001b[0m\u001b]8;;\u001b\\\n",
      "\u001b[2;36m          \u001b[0m\u001b[2;36m \u001b[0m\u001b[34mINFO    \u001b[0m try without chr                             \u001b]8;id=31488;file:///storage/cylin/home/bmho/pysashimi/src/ReadDepth.py\u001b\\\u001b[2mReadDepth.py\u001b[0m\u001b]8;;\u001b\\\u001b[2m:\u001b[0m\u001b]8;id=935447;file:///storage/cylin/home/bmho/pysashimi/src/ReadDepth.py#125\u001b\\\u001b[2m125\u001b[0m\u001b]8;;\u001b\\\n",
      "\u001b[2;36m[11:56:34]\u001b[0m\u001b[2;36m \u001b[0m\u001b[34mINFO    \u001b[0m save to \u001b[35m/storage/cylin/home/bmho/d\u001b[0m \u001b]8;id=125279;file:///storage/cylin/home/bmho/pysashimi/plot/sashimi_plot_utils.py\u001b\\\u001b[2msashimi_plot_utils.py\u001b[0m\u001b]8;;\u001b\\\u001b[2m:\u001b[0m\u001b]8;id=981015;file:///storage/cylin/home/bmho/pysashimi/plot/sashimi_plot_utils.py#307\u001b\\\u001b[2m307\u001b[0m\u001b]8;;\u001b\\\n",
      "\u001b[2;36m           \u001b[0m         \u001b[35mhx15_uj_paper_figures/\u001b[0m\u001b[95mall_target_s\u001b[0m \u001b[2m                         \u001b[0m\n",
      "\u001b[2;36m           \u001b[0m         \u001b[95mashimi_U2_5.pdf\u001b[0m                    \u001b[2m                         \u001b[0m\n"
     ]
    }
   ],
   "source": [
    "!~/pysashimi/main.py plot \\\n",
    "-b ../../data/pysashimi_tables/pysashimi_bam_list_all_target.txt \\\n",
    "-e chr1:28567314-28571275:+ \\\n",
    "-t 3 \\\n",
    "--color-factor 3 \\\n",
    "--share-y \\\n",
    "--share-y-by 4 \\\n",
    "-o /storage/cylin/home/bmho/dhx15_uj_paper_figures/all_target_sashimi_U2_5.pdf\n"
   ]
  },
  {
   "cell_type": "code",
   "execution_count": 13,
   "metadata": {},
   "outputs": [],
   "source": [
    "%%capture\n",
    "\n",
    "!~/pysashimi/main.py plot \\\n",
    "-b ../../data/pysashimi_tables/pysashimi_bam_list_all_target.txt \\\n",
    "-e chr6:3738052-3751375:- \\\n",
    "-t 3 \\\n",
    "--color-factor 3 \\\n",
    "-o /storage/cylin/home/bmho/dhx15_uj_paper_figures/all_target_sashimi_catalytic_1.pdf\n"
   ]
  },
  {
   "cell_type": "code",
   "execution_count": 15,
   "metadata": {},
   "outputs": [],
   "source": [
    "%%capture\n",
    "\n",
    "!~/pysashimi/main.py plot \\\n",
    "-b ../../data/pysashimi_tables/pysashimi_bam_list_all_target.txt \\\n",
    "-e chr6:158064735-158064839:- \\\n",
    "-t 3 \\\n",
    "--color-factor 3 \\\n",
    "-o /storage/cylin/home/bmho/dhx15_uj_paper_figures/all_target_sashimi_catalytic_2.pdf"
   ]
  },
  {
   "cell_type": "code",
   "execution_count": 16,
   "metadata": {},
   "outputs": [],
   "source": [
    "%%capture\n",
    "\n",
    "!~/pysashimi/main.py plot \\\n",
    "-b ../../data/pysashimi_tables/pysashimi_bam_list_all_target.txt \\\n",
    "-e chr16:3483498-3484790:+ \\\n",
    "-t 3 \\\n",
    "--color-factor 3 \\\n",
    "-o /storage/cylin/home/bmho/dhx15_uj_paper_figures/all_target_sashimi_catalytic_3.pdf"
   ]
  },
  {
   "cell_type": "code",
   "execution_count": 18,
   "metadata": {},
   "outputs": [],
   "source": [
    "%%capture\n",
    "\n",
    "!~/pysashimi/main.py plot \\\n",
    "-b ../../data/pysashimi_tables/pysashimi_bam_list_all_target.txt \\\n",
    "-e chr10:11952149-11955331:- \\\n",
    "-t 3 \\\n",
    "--color-factor 3 \\\n",
    "-o /storage/cylin/home/bmho/dhx15_uj_paper_figures/all_target_sashimi_dhx15_1.pdf"
   ]
  },
  {
   "cell_type": "code",
   "execution_count": 20,
   "metadata": {},
   "outputs": [],
   "source": [
    "%%capture\n",
    "\n",
    "!~/pysashimi/main.py plot \\\n",
    "-b ../../data/pysashimi_tables/pysashimi_bam_list_all_target.txt \\\n",
    "-e chr3:9435856-9436899:+ \\\n",
    "-t 3 \\\n",
    "--color-factor 3 \\\n",
    "-o /storage/cylin/home/bmho/dhx15_uj_paper_figures/all_target_sashimi_dhx15_2.pdf"
   ]
  },
  {
   "cell_type": "code",
   "execution_count": 2,
   "metadata": {},
   "outputs": [],
   "source": [
    "%%capture\n",
    "\n",
    "!~/pysashimi/main.py plot \\\n",
    "-b ../../data/pysashimi_tables/pysashimi_bam_list_sum159_lm2.txt \\\n",
    "-e chr14:22768072-22769876:+ \\\n",
    "--color-factor 3 \\\n",
    "-o /storage/cylin/home/bmho/dhx15_uj_paper_figures/sum159_lm2_sashimi_uj.pdf"
   ]
  },
  {
   "cell_type": "code",
   "execution_count": 21,
   "metadata": {},
   "outputs": [],
   "source": [
    "%%capture\n",
    "\n",
    "!~/pysashimi/main.py plot \\\n",
    "-b ../../data/pysashimi_tables/pysashimi_bam_list_sum159_lm2.txt \\\n",
    "-e chr15:69414350-69416093:+ \\\n",
    "-t 3 \\\n",
    "--color-factor 3 \\\n",
    "-o /storage/cylin/home/bmho/dhx15_uj_paper_figures/sum159_lm2_sashimi_uj_2.pdf"
   ]
  },
  {
   "cell_type": "code",
   "execution_count": 5,
   "metadata": {},
   "outputs": [],
   "source": [
    "%%capture\n",
    "\n",
    "!~/pysashimi/main.py plot \\\n",
    "-b ../../data/pysashimi_tables/pysashimi_bam_list_aml_mouse.txt \\\n",
    "-e chr9:44299279-44299605:+ \\\n",
    "-t 3 \\\n",
    "--color-factor 3 \\\n",
    "-o /storage/cylin/home/bmho/dhx15_uj_paper_figures/lz_aml_mouse_sashimi.pdf"
   ]
  },
  {
   "cell_type": "code",
   "execution_count": 8,
   "metadata": {},
   "outputs": [],
   "source": [
    "%%capture\n",
    "\n",
    "!~/pysashimi/main.py plot \\\n",
    "-b ../../data/pysashimi_tables/pysashimi_bam_list_dhx15_mut.txt \\\n",
    "-e chr14:22768072-22769876:+ \\\n",
    "-t 3 \\\n",
    "--color-factor 3 \\\n",
    "-o /storage/cylin/home/bmho/dhx15_uj_paper_figures/lz_dhx15_mut_signature_sashimi.pdf"
   ]
  },
  {
   "cell_type": "code",
   "execution_count": 24,
   "metadata": {},
   "outputs": [],
   "source": [
    "%%capture\n",
    "\n",
    "!~/pysashimi/main.py plot \\\n",
    "-b ../../data/pysashimi_tables/pysashimi_bam_list_dhx15_mut.txt \\\n",
    "-e chr14:61767253-61768735:- \\\n",
    "-t 3 \\\n",
    "--color-factor 3 \\\n",
    "-o /storage/cylin/home/bmho/dhx15_uj_paper_figures/lz_dhx15_mut_sashimi.pdf\n"
   ]
  }
 ],
 "metadata": {
  "kernelspec": {
   "display_name": "Python 3",
   "language": "python",
   "name": "python3"
  },
  "language_info": {
   "codemirror_mode": {
    "name": "ipython",
    "version": 3
   },
   "file_extension": ".py",
   "mimetype": "text/x-python",
   "name": "python",
   "nbconvert_exporter": "python",
   "pygments_lexer": "ipython3",
   "version": "3.7.3"
  }
 },
 "nbformat": 4,
 "nbformat_minor": 2
}
