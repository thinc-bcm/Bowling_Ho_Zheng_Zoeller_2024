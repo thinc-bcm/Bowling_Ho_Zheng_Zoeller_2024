{
 "cells": [
  {
   "cell_type": "code",
   "execution_count": 1,
   "metadata": {},
   "outputs": [],
   "source": [
    "import matplotlib.pyplot as plt\n",
    "import numpy as np\n",
    "import pandas as pd\n",
    "import umap\n",
    "\n",
    "from natsort import os_sorted\n",
    "from matplotlib.lines import Line2D\n",
    "from matplotlib.patches import Patch\n",
    "from sklearn.preprocessing import StandardScaler\n",
    "from sklearn.decomposition import PCA\n"
   ]
  },
  {
   "cell_type": "code",
   "execution_count": 2,
   "metadata": {},
   "outputs": [],
   "source": [
    "def flatten(regular_list):\n",
    "    return [item for sublist in regular_list for item in sublist]"
   ]
  },
  {
   "cell_type": "code",
   "execution_count": 3,
   "metadata": {},
   "outputs": [],
   "source": [
    "delta_df = pd.read_csv('../../data/dtag_experiments/1D_delta_df.tsv',sep='\\t',index_col=0)\n",
    "\n",
    "inds = flatten([np.array([3,4,5])+i*6 for i in range(0,8)])\n",
    "\n",
    "delta_df_filt = delta_df.iloc[:,inds]"
   ]
  },
  {
   "cell_type": "code",
   "execution_count": 4,
   "metadata": {},
   "outputs": [],
   "source": [
    "color_dict = {\n",
    "    'AQR':'tab:orange',\n",
    "    'DDX46':'tab:brown',\n",
    "    'DHX15':'tab:blue',\n",
    "    'DHX16':'tab:cyan',\n",
    "    'DHX38':'tab:pink',\n",
    "    'PRPF8':'tab:green',\n",
    "    'SF3B1':'tab:red',\n",
    "    'U2AF2':'tab:purple'\n",
    "}\n",
    "\n",
    "legend_elements = [\n",
    "    Patch(\n",
    "        facecolor=color_dict[i],\n",
    "        label=i\n",
    "    ) for i in os_sorted(list(color_dict.keys()))    \n",
    "]"
   ]
  },
  {
   "cell_type": "code",
   "execution_count": 5,
   "metadata": {},
   "outputs": [],
   "source": [
    "x = StandardScaler().fit_transform(delta_df_filt.transpose())\n",
    "\n",
    "pca = PCA(n_components=len(delta_df_filt.columns))\n",
    "\n",
    "principalComponents = pca.fit_transform(x)\n",
    "principalDf = pd.DataFrame(\n",
    "    data = principalComponents,\n",
    ")\n",
    "\n",
    "colors = [color_dict[i.split('_')[0]] for i in delta_df_filt.columns]\n",
    "    \n",
    "targets = ['_'.join([j[0],j[3]]) for j in [i.split('_') for i in delta_df_filt.columns]]\n",
    "\n",
    "\n",
    "finalDf = pd.concat(\n",
    "    [\n",
    "        principalDf, \n",
    "        pd.Series(colors), \n",
    "        pd.Series(targets),\n",
    "    ], axis = 1)\n",
    "\n",
    "\n",
    "pca_var_dict = {\n",
    "    principalDf.columns[i]:pca.explained_variance_ratio_[i] \n",
    "    for i in range(len(principalDf.columns))}"
   ]
  },
  {
   "cell_type": "code",
   "execution_count": 20,
   "metadata": {},
   "outputs": [],
   "source": [
    "colors = [color_dict[i.split('_')[0]] for i in delta_df_filt.columns]\n",
    "    \n",
    "symbols = ['.']*len(delta_df_filt.columns)\n",
    "targets = ['_'.join([j[0],j[3]]) for j in [i.split('_') for i in delta_df_filt.columns]]\n",
    "\n",
    "umap_space_1 = umap.UMAP(\n",
    "    n_neighbors=4,\n",
    "    min_dist=0.2,\n",
    "    init='spectral',\n",
    "    metric='euclidean'\n",
    ").fit_transform(\n",
    "    principalDf.iloc[:,:6]\n",
    ")\n",
    "\n",
    "\n",
    "umap_final_1 = pd.concat(\n",
    "    [\n",
    "        pd.DataFrame(umap_space_1),\n",
    "        pd.Series(colors),\n",
    "        pd.Series(symbols),\n",
    "        pd.Series(targets)\n",
    "    ],\n",
    "    axis=1\n",
    ")\n",
    "\n",
    "umap_final_1.columns = [\n",
    "    'umap x',\n",
    "    'umap y',\n",
    "    'color',\n",
    "    'symbol',\n",
    "    'target'\n",
    "]"
   ]
  },
  {
   "cell_type": "code",
   "execution_count": 21,
   "metadata": {},
   "outputs": [
    {
     "data": {
      "image/png": "[encoded data removed]",
      "text/plain": [
       "<Figure size 720x576 with 1 Axes>"
      ]
     },
     "metadata": {
      "needs_background": "light"
     },
     "output_type": "display_data"
    }
   ],
   "source": [
    "pc_x = 'umap x'\n",
    "pc_y = 'umap y'\n",
    "\n",
    "fig = plt.figure(figsize = (10,8))\n",
    "ax = fig.add_subplot(1,1,1) \n",
    "ax.set_xlabel(pc_x, fontsize = 15)\n",
    "ax.set_ylabel(pc_y, fontsize = 15)\n",
    "\n",
    "\n",
    "for target in targets:\n",
    "    indicesToKeep = umap_final_1.iloc[:,-1] == target\n",
    "    color = umap_final_1.loc[indicesToKeep,'color'].values[0]\n",
    "    symbol = umap_final_1.loc[indicesToKeep,'symbol'].values[0]\n",
    "    ax.scatter(umap_final_1.loc[indicesToKeep, pc_x],\n",
    "               umap_final_1.loc[indicesToKeep, pc_y],\n",
    "               c = color,\n",
    "               s = 75,\n",
    "               marker=symbol,\n",
    "              )\n",
    "\n",
    "\n",
    "\n",
    "box = ax.get_position()\n",
    "ax.set_position([box.x0, box.y0, box.width * 0.8, box.height])\n",
    "\n",
    "plt.legend(handles = legend_elements,loc='center left', bbox_to_anchor=(1, 0.5))\n",
    "ax.grid()\n"
   ]
  },
  {
   "cell_type": "code",
   "execution_count": null,
   "metadata": {},
   "outputs": [],
   "source": []
  }
 ],
 "metadata": {
  "kernelspec": {
   "display_name": "Python 3",
   "language": "python",
   "name": "python3"
  },
  "language_info": {
   "codemirror_mode": {
    "name": "ipython",
    "version": 3
   },
   "file_extension": ".py",
   "mimetype": "text/x-python",
   "name": "python",
   "nbconvert_exporter": "python",
   "pygments_lexer": "ipython3",
   "version": "3.7.3"
  }
 },
 "nbformat": 4,
 "nbformat_minor": 2
}
